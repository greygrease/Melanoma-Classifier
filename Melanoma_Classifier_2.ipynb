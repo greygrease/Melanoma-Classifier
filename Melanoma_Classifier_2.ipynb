{
  "nbformat": 4,
  "nbformat_minor": 0,
  "metadata": {
    "colab": {
      "provenance": [],
      "include_colab_link": true
    },
    "kernelspec": {
      "name": "python3",
      "display_name": "Python 3"
    },
    "language_info": {
      "name": "python"
    },
    "accelerator": "GPU",
    "gpuClass": "standard"
  },
  "cells": [
    {
      "cell_type": "markdown",
      "metadata": {
        "id": "view-in-github",
        "colab_type": "text"
      },
      "source": [
        "<a href=\"https://colab.research.google.com/github/greygrease/Melanoma-Classifier/blob/main/Melanoma_Classifier_2.ipynb\" target=\"_parent\"><img src=\"https://colab.research.google.com/assets/colab-badge.svg\" alt=\"Open In Colab\"/></a>"
      ]
    },
    {
      "cell_type": "code",
      "source": [
        "!nvidia-smi"
      ],
      "metadata": {
        "colab": {
          "base_uri": "https://localhost:8080/"
        },
        "outputId": "8f5cff1b-beaa-4ebb-ca85-f87c5261468c",
        "id": "TfNrNiql5DGC"
      },
      "execution_count": null,
      "outputs": [
        {
          "output_type": "stream",
          "name": "stdout",
          "text": [
            "Thu Jan  5 10:40:03 2023       \n",
            "+-----------------------------------------------------------------------------+\n",
            "| NVIDIA-SMI 460.32.03    Driver Version: 460.32.03    CUDA Version: 11.2     |\n",
            "|-------------------------------+----------------------+----------------------+\n",
            "| GPU  Name        Persistence-M| Bus-Id        Disp.A | Volatile Uncorr. ECC |\n",
            "| Fan  Temp  Perf  Pwr:Usage/Cap|         Memory-Usage | GPU-Util  Compute M. |\n",
            "|                               |                      |               MIG M. |\n",
            "|===============================+======================+======================|\n",
            "|   0  Tesla T4            Off  | 00000000:00:04.0 Off |                    0 |\n",
            "| N/A   65C    P0    30W /  70W |      0MiB / 15109MiB |      0%      Default |\n",
            "|                               |                      |                  N/A |\n",
            "+-------------------------------+----------------------+----------------------+\n",
            "                                                                               \n",
            "+-----------------------------------------------------------------------------+\n",
            "| Processes:                                                                  |\n",
            "|  GPU   GI   CI        PID   Type   Process name                  GPU Memory |\n",
            "|        ID   ID                                                   Usage      |\n",
            "|=============================================================================|\n",
            "|  No running processes found                                                 |\n",
            "+-----------------------------------------------------------------------------+\n"
          ]
        }
      ]
    },
    {
      "cell_type": "markdown",
      "source": [
        "# Mount Drive and Import Data"
      ],
      "metadata": {
        "id": "cdmN_q65bzi0"
      }
    },
    {
      "cell_type": "code",
      "execution_count": null,
      "metadata": {
        "colab": {
          "base_uri": "https://localhost:8080/"
        },
        "id": "vbGd3oaLbp5f",
        "outputId": "27c95233-4511-43e0-ecce-22b2a8226d2e"
      },
      "outputs": [
        {
          "output_type": "stream",
          "name": "stdout",
          "text": [
            "Mounted at /content/gdrive\n"
          ]
        }
      ],
      "source": [
        "from google.colab import drive\n",
        "drive.mount('/content/gdrive')"
      ]
    },
    {
      "cell_type": "code",
      "source": [
        "train_path = '/content/gdrive/MyDrive/kaggle_dataset/Skin cancer ISIC /Train'\n",
        "test_path = '/content/gdrive/MyDrive/kaggle_dataset/Skin cancer ISIC /Test'"
      ],
      "metadata": {
        "id": "5pjYbon_b5Gt"
      },
      "execution_count": null,
      "outputs": []
    },
    {
      "cell_type": "code",
      "source": [
        "import pathlib\n",
        "train_dir = pathlib.Path(train_path)\n",
        "test_dir  = pathlib.Path(test_path)\n",
        "train_dir, test_dir"
      ],
      "metadata": {
        "colab": {
          "base_uri": "https://localhost:8080/"
        },
        "id": "pTULbl8nb6TJ",
        "outputId": "8f54a706-3980-4cf1-cd41-93e6bc8215c9"
      },
      "execution_count": null,
      "outputs": [
        {
          "output_type": "execute_result",
          "data": {
            "text/plain": [
              "(PosixPath('/content/gdrive/MyDrive/kaggle_dataset/Skin cancer ISIC /Train'),\n",
              " PosixPath('/content/gdrive/MyDrive/kaggle_dataset/Skin cancer ISIC /Test'))"
            ]
          },
          "metadata": {},
          "execution_count": 4
        }
      ]
    },
    {
      "cell_type": "markdown",
      "source": [
        "## Visualize Data"
      ],
      "metadata": {
        "id": "7qyn63kida5c"
      }
    },
    {
      "cell_type": "code",
      "source": [
        "# Count number of images in each set.\n",
        "img_train = list(train_dir.glob('*/*.jpg'))\n",
        "img_test = list(test_dir.glob('*/*.jpg'))\n",
        "img_count_train = len(list(train_dir.glob('*/*.jpg')))\n",
        "img_count_test  = len(list(test_dir.glob('*/*.jpg')))\n",
        "print('{} train images'.format(img_count_train))\n",
        "print('{}  test  images'.format(img_count_test))\n",
        "\n",
        "img_train[0], img_test[0]"
      ],
      "metadata": {
        "id": "X9PiXH7-eQQd",
        "colab": {
          "base_uri": "https://localhost:8080/"
        },
        "outputId": "ebd0eef6-0a20-4ad2-f1e9-86f1c8604911"
      },
      "execution_count": null,
      "outputs": [
        {
          "output_type": "stream",
          "name": "stdout",
          "text": [
            "2239 train images\n",
            "118  test  images\n"
          ]
        },
        {
          "output_type": "execute_result",
          "data": {
            "text/plain": [
              "(PosixPath('/content/gdrive/MyDrive/kaggle_dataset/Skin cancer ISIC /Train/melanoma/ISIC_0000143.jpg'),\n",
              " PosixPath('/content/gdrive/MyDrive/kaggle_dataset/Skin cancer ISIC /Test/vascular lesion/ISIC_0024402.jpg'))"
            ]
          },
          "metadata": {},
          "execution_count": 5
        }
      ]
    },
    {
      "cell_type": "code",
      "source": [
        "# Plot random images from the dataset\n",
        "\n",
        "import matplotlib.pyplot as plt\n",
        "import matplotlib.image as mpimg\n",
        "import random\n",
        "import os\n",
        "\n",
        "def view_random_image(target_dir, target_class):\n",
        "  target_folder = target_dir + '/' + target_class\n",
        "  random_image = random.sample(os.listdir(target_folder), 1) # os.listdir() method in python is used to get the list of all files and directories in the specified directory.\n",
        "\n",
        "  print(f'Image Name: {random_image[0]}')\n",
        "  img = mpimg.imread(target_folder + '/' + random_image[0])\n",
        "  plt.imshow(img)\n",
        "  plt.title(target_class)\n",
        "  plt.axis('off')\n",
        "  return img"
      ],
      "metadata": {
        "id": "PUY5ZFaTdFw_"
      },
      "execution_count": null,
      "outputs": []
    },
    {
      "cell_type": "code",
      "source": [
        "# View a random image from the training dataset\n",
        "img = view_random_image(target_dir=\"/content/gdrive/MyDrive/kaggle_dataset/Skin cancer ISIC /Test\",\n",
        "                        target_class=\"melanoma\")"
      ],
      "metadata": {
        "colab": {
          "base_uri": "https://localhost:8080/",
          "height": 281
        },
        "id": "DVodO1zhf0Cp",
        "outputId": "35077446-c60e-4380-e392-edd98874c0f2"
      },
      "execution_count": null,
      "outputs": [
        {
          "output_type": "stream",
          "name": "stdout",
          "text": [
            "Image Name: ISIC_0000036.jpg\n"
          ]
        },
        {
          "output_type": "display_data",
          "data": {
            "text/plain": [
              "<Figure size 432x288 with 1 Axes>"
            ],
            "image/png": "[encoded data removed]"
          },
          "metadata": {
            "needs_background": "light"
          }
        }
      ]
    },
    {
      "cell_type": "markdown",
      "source": [
        "## Image Preprocessing"
      ],
      "metadata": {
        "id": "MyHqaSKjhEuZ"
      }
    },
    {
      "cell_type": "markdown",
      "source": [
        "### Image Augmentation\n"
      ],
      "metadata": {
        "id": "DEw2T9jkhGc0"
      }
    },
    {
      "cell_type": "code",
      "source": [
        "from tensorflow.keras.preprocessing.image import ImageDataGenerator\n",
        "\n",
        "train_datagen = ImageDataGenerator(rescale=1./255,\n",
        "    rotation_range            = 100,\n",
        "    zoom_range                = 10,\n",
        "    horizontal_flip           = True,\n",
        "    vertical_flip             = True,\n",
        "    height_shift_range        = 10,\n",
        "    width_shift_range         = 10,\n",
        "    shear_range               = 5.0,\n",
        "    channel_shift_range       = 0.0,\n",
        "    brightness_range          = None,\n",
        "    fill_mode                 = 'nearest',                          \n",
        ")\n",
        "\n",
        "test_datagen = ImageDataGenerator(rescale = 1/255.)\n",
        "\n",
        "IMG_SIZE = (244, 244)\n",
        "BATCH_SIZE = 16\n",
        "\n",
        "# Train_data\n",
        "train_generator = train_datagen.flow_from_directory(train_dir,\n",
        "                                                    target_size = IMG_SIZE,\n",
        "                                                    batch_size = BATCH_SIZE,\n",
        "                                                    class_mode = 'categorical',\n",
        "                                                    shuffle = True)\n",
        "\n",
        "test_generator = test_datagen.flow_from_directory(test_dir,\n",
        "                                                  target_size = IMG_SIZE,\n",
        "                                                  batch_size = BATCH_SIZE,\n",
        "                                                  class_mode = 'categorical',\n",
        "                                                  shuffle = True)"
      ],
      "metadata": {
        "colab": {
          "base_uri": "https://localhost:8080/"
        },
        "id": "8Li0rlbGhPBf",
        "outputId": "fccc1f36-fed0-4641-a3a9-5a1370b47731"
      },
      "execution_count": null,
      "outputs": [
        {
          "output_type": "stream",
          "name": "stdout",
          "text": [
            "Found 2239 images belonging to 9 classes.\n",
            "Found 118 images belonging to 9 classes.\n"
          ]
        }
      ]
    },
    {
      "cell_type": "code",
      "source": [
        "dir(train_generator)"
      ],
      "metadata": {
        "id": "E_NqnfwofOIx",
        "outputId": "7a616923-fff4-411c-a620-a83f1017bff3",
        "colab": {
          "base_uri": "https://localhost:8080/"
        }
      },
      "execution_count": null,
      "outputs": [
        {
          "output_type": "execute_result",
          "data": {
            "text/plain": [
              "['__class__',\n",
              " '__delattr__',\n",
              " '__dict__',\n",
              " '__dir__',\n",
              " '__doc__',\n",
              " '__eq__',\n",
              " '__format__',\n",
              " '__ge__',\n",
              " '__getattribute__',\n",
              " '__getitem__',\n",
              " '__gt__',\n",
              " '__hash__',\n",
              " '__init__',\n",
              " '__init_subclass__',\n",
              " '__iter__',\n",
              " '__le__',\n",
              " '__len__',\n",
              " '__lt__',\n",
              " '__module__',\n",
              " '__ne__',\n",
              " '__new__',\n",
              " '__next__',\n",
              " '__reduce__',\n",
              " '__reduce_ex__',\n",
              " '__repr__',\n",
              " '__setattr__',\n",
              " '__sizeof__',\n",
              " '__str__',\n",
              " '__subclasshook__',\n",
              " '__weakref__',\n",
              " '_filepaths',\n",
              " '_flow_index',\n",
              " '_get_batches_of_transformed_samples',\n",
              " '_keras_api_names',\n",
              " '_keras_api_names_v1',\n",
              " '_set_index_array',\n",
              " 'allowed_class_modes',\n",
              " 'batch_index',\n",
              " 'batch_size',\n",
              " 'class_indices',\n",
              " 'class_mode',\n",
              " 'classes',\n",
              " 'color_mode',\n",
              " 'data_format',\n",
              " 'directory',\n",
              " 'dtype',\n",
              " 'filenames',\n",
              " 'filepaths',\n",
              " 'image_data_generator',\n",
              " 'image_shape',\n",
              " 'index_array',\n",
              " 'index_generator',\n",
              " 'interpolation',\n",
              " 'keep_aspect_ratio',\n",
              " 'labels',\n",
              " 'lock',\n",
              " 'n',\n",
              " 'next',\n",
              " 'num_classes',\n",
              " 'on_epoch_end',\n",
              " 'reset',\n",
              " 'sample_weight',\n",
              " 'samples',\n",
              " 'save_format',\n",
              " 'save_prefix',\n",
              " 'save_to_dir',\n",
              " 'seed',\n",
              " 'set_processing_attrs',\n",
              " 'shuffle',\n",
              " 'split',\n",
              " 'subset',\n",
              " 'target_size',\n",
              " 'total_batches_seen',\n",
              " 'white_list_formats']"
            ]
          },
          "metadata": {},
          "execution_count": 9
        }
      ]
    },
    {
      "cell_type": "code",
      "source": [
        "train_generator.labels"
      ],
      "metadata": {
        "colab": {
          "base_uri": "https://localhost:8080/"
        },
        "id": "ehdzzwQgfHTY",
        "outputId": "27895497-1540-43f6-adf4-ded39d6c3a57"
      },
      "execution_count": null,
      "outputs": [
        {
          "output_type": "execute_result",
          "data": {
            "text/plain": [
              "array([0, 0, 0, ..., 8, 8, 8], dtype=int32)"
            ]
          },
          "metadata": {},
          "execution_count": 10
        }
      ]
    },
    {
      "cell_type": "code",
      "source": [
        "train_generator, test_generator"
      ],
      "metadata": {
        "colab": {
          "base_uri": "https://localhost:8080/"
        },
        "id": "yLJAxpjjjHiA",
        "outputId": "4a19335b-e0d5-49b8-e1c8-21af554a0618"
      },
      "execution_count": null,
      "outputs": [
        {
          "output_type": "execute_result",
          "data": {
            "text/plain": [
              "(<keras.preprocessing.image.DirectoryIterator at 0x7f96383bc7f0>,\n",
              " <keras.preprocessing.image.DirectoryIterator at 0x7f96383bc820>)"
            ]
          },
          "metadata": {},
          "execution_count": 11
        }
      ]
    },
    {
      "cell_type": "markdown",
      "source": [
        "## Create feature_extractor"
      ],
      "metadata": {
        "id": "4GI71LAjjZC8"
      }
    },
    {
      "cell_type": "code",
      "source": [
        "import tensorflow as tf\n",
        "from tensorflow.keras import layers\n",
        "\n",
        "feature_extractor = tf.keras.applications.EfficientNetB0(include_top = False,\n",
        "                                                      input_shape = IMG_SIZE +(3,))\n",
        "for layer in feature_extractor.layers:\n",
        "  layer.trainable = False"
      ],
      "metadata": {
        "colab": {
          "base_uri": "https://localhost:8080/"
        },
        "id": "C5nXpCl5jrRN",
        "outputId": "cec04d5e-e886-4e31-f65e-dbc7cbe3fbcd"
      },
      "execution_count": null,
      "outputs": [
        {
          "output_type": "stream",
          "name": "stdout",
          "text": [
            "Downloading data from https://storage.googleapis.com/keras-applications/efficientnetb0_notop.h5\n",
            "16705208/16705208 [==============================] - 0s 0us/step\n"
          ]
        }
      ]
    },
    {
      "cell_type": "code",
      "source": [
        "for layer in feature_extractor.layers[:5]:\n",
        "  print(layer.trainable)"
      ],
      "metadata": {
        "colab": {
          "base_uri": "https://localhost:8080/"
        },
        "id": "LU1bE4T7kN4s",
        "outputId": "ea7548b0-8334-475a-cf95-3b0fa2438bc3"
      },
      "execution_count": null,
      "outputs": [
        {
          "output_type": "stream",
          "name": "stdout",
          "text": [
            "False\n",
            "False\n",
            "False\n",
            "False\n",
            "False\n"
          ]
        }
      ]
    },
    {
      "cell_type": "code",
      "source": [
        "feature_extractor.summary() # Check if trainable parameters is 0"
      ],
      "metadata": {
        "colab": {
          "base_uri": "https://localhost:8080/"
        },
        "id": "T2dpSyqakSzO",
        "outputId": "51017703-24a6-46b5-8552-dc0b4c761775"
      },
      "execution_count": null,
      "outputs": [
        {
          "output_type": "stream",
          "name": "stdout",
          "text": [
            "Model: \"efficientnetb0\"\n",
            "__________________________________________________________________________________________________\n",
            " Layer (type)                   Output Shape         Param #     Connected to                     \n",
            "==================================================================================================\n",
            " input_2 (InputLayer)           [(None, 244, 244, 3  0           []                               \n",
            "                                )]                                                                \n",
            "                                                                                                  \n",
            " rescaling (Rescaling)          (None, 244, 244, 3)  0           ['input_2[0][0]']                \n",
            "                                                                                                  \n",
            " normalization (Normalization)  (None, 244, 244, 3)  7           ['rescaling[0][0]']              \n",
            "                                                                                                  \n",
            " tf.math.truediv (TFOpLambda)   (None, 244, 244, 3)  0           ['normalization[0][0]']          \n",
            "                                                                                                  \n",
            " stem_conv_pad (ZeroPadding2D)  (None, 245, 245, 3)  0           ['tf.math.truediv[0][0]']        \n",
            "                                                                                                  \n",
            " stem_conv (Conv2D)             (None, 122, 122, 32  864         ['stem_conv_pad[0][0]']          \n",
            "                                )                                                                 \n",
            "                                                                                                  \n",
            " stem_bn (BatchNormalization)   (None, 122, 122, 32  128         ['stem_conv[0][0]']              \n",
            "                                )                                                                 \n",
            "                                                                                                  \n",
            " stem_activation (Activation)   (None, 122, 122, 32  0           ['stem_bn[0][0]']                \n",
            "                                )                                                                 \n",
            "                                                                                                  \n",
            " block1a_dwconv (DepthwiseConv2  (None, 122, 122, 32  288        ['stem_activation[0][0]']        \n",
            " D)                             )                                                                 \n",
            "                                                                                                  \n",
            " block1a_bn (BatchNormalization  (None, 122, 122, 32  128        ['block1a_dwconv[0][0]']         \n",
            " )                              )                                                                 \n",
            "                                                                                                  \n",
            " block1a_activation (Activation  (None, 122, 122, 32  0          ['block1a_bn[0][0]']             \n",
            " )                              )                                                                 \n",
            "                                                                                                  \n",
            " block1a_se_squeeze (GlobalAver  (None, 32)          0           ['block1a_activation[0][0]']     \n",
            " agePooling2D)                                                                                    \n",
            "                                                                                                  \n",
            " block1a_se_reshape (Reshape)   (None, 1, 1, 32)     0           ['block1a_se_squeeze[0][0]']     \n",
            "                                                                                                  \n",
            " block1a_se_reduce (Conv2D)     (None, 1, 1, 8)      264         ['block1a_se_reshape[0][0]']     \n",
            "                                                                                                  \n",
            " block1a_se_expand (Conv2D)     (None, 1, 1, 32)     288         ['block1a_se_reduce[0][0]']      \n",
            "                                                                                                  \n",
            " block1a_se_excite (Multiply)   (None, 122, 122, 32  0           ['block1a_activation[0][0]',     \n",
            "                                )                                 'block1a_se_expand[0][0]']      \n",
            "                                                                                                  \n",
            " block1a_project_conv (Conv2D)  (None, 122, 122, 16  512         ['block1a_se_excite[0][0]']      \n",
            "                                )                                                                 \n",
            "                                                                                                  \n",
            " block1a_project_bn (BatchNorma  (None, 122, 122, 16  64         ['block1a_project_conv[0][0]']   \n",
            " lization)                      )                                                                 \n",
            "                                                                                                  \n",
            " block2a_expand_conv (Conv2D)   (None, 122, 122, 96  1536        ['block1a_project_bn[0][0]']     \n",
            "                                )                                                                 \n",
            "                                                                                                  \n",
            " block2a_expand_bn (BatchNormal  (None, 122, 122, 96  384        ['block2a_expand_conv[0][0]']    \n",
            " ization)                       )                                                                 \n",
            "                                                                                                  \n",
            " block2a_expand_activation (Act  (None, 122, 122, 96  0          ['block2a_expand_bn[0][0]']      \n",
            " ivation)                       )                                                                 \n",
            "                                                                                                  \n",
            " block2a_dwconv_pad (ZeroPaddin  (None, 123, 123, 96  0          ['block2a_expand_activation[0][0]\n",
            " g2D)                           )                                ']                               \n",
            "                                                                                                  \n",
            " block2a_dwconv (DepthwiseConv2  (None, 61, 61, 96)  864         ['block2a_dwconv_pad[0][0]']     \n",
            " D)                                                                                               \n",
            "                                                                                                  \n",
            " block2a_bn (BatchNormalization  (None, 61, 61, 96)  384         ['block2a_dwconv[0][0]']         \n",
            " )                                                                                                \n",
            "                                                                                                  \n",
            " block2a_activation (Activation  (None, 61, 61, 96)  0           ['block2a_bn[0][0]']             \n",
            " )                                                                                                \n",
            "                                                                                                  \n",
            " block2a_se_squeeze (GlobalAver  (None, 96)          0           ['block2a_activation[0][0]']     \n",
            " agePooling2D)                                                                                    \n",
            "                                                                                                  \n",
            " block2a_se_reshape (Reshape)   (None, 1, 1, 96)     0           ['block2a_se_squeeze[0][0]']     \n",
            "                                                                                                  \n",
            " block2a_se_reduce (Conv2D)     (None, 1, 1, 4)      388         ['block2a_se_reshape[0][0]']     \n",
            "                                                                                                  \n",
            " block2a_se_expand (Conv2D)     (None, 1, 1, 96)     480         ['block2a_se_reduce[0][0]']      \n",
            "                                                                                                  \n",
            " block2a_se_excite (Multiply)   (None, 61, 61, 96)   0           ['block2a_activation[0][0]',     \n",
            "                                                                  'block2a_se_expand[0][0]']      \n",
            "                                                                                                  \n",
            " block2a_project_conv (Conv2D)  (None, 61, 61, 24)   2304        ['block2a_se_excite[0][0]']      \n",
            "                                                                                                  \n",
            " block2a_project_bn (BatchNorma  (None, 61, 61, 24)  96          ['block2a_project_conv[0][0]']   \n",
            " lization)                                                                                        \n",
            "                                                                                                  \n",
            " block2b_expand_conv (Conv2D)   (None, 61, 61, 144)  3456        ['block2a_project_bn[0][0]']     \n",
            "                                                                                                  \n",
            " block2b_expand_bn (BatchNormal  (None, 61, 61, 144)  576        ['block2b_expand_conv[0][0]']    \n",
            " ization)                                                                                         \n",
            "                                                                                                  \n",
            " block2b_expand_activation (Act  (None, 61, 61, 144)  0          ['block2b_expand_bn[0][0]']      \n",
            " ivation)                                                                                         \n",
            "                                                                                                  \n",
            " block2b_dwconv (DepthwiseConv2  (None, 61, 61, 144)  1296       ['block2b_expand_activation[0][0]\n",
            " D)                                                              ']                               \n",
            "                                                                                                  \n",
            " block2b_bn (BatchNormalization  (None, 61, 61, 144)  576        ['block2b_dwconv[0][0]']         \n",
            " )                                                                                                \n",
            "                                                                                                  \n",
            " block2b_activation (Activation  (None, 61, 61, 144)  0          ['block2b_bn[0][0]']             \n",
            " )                                                                                                \n",
            "                                                                                                  \n",
            " block2b_se_squeeze (GlobalAver  (None, 144)         0           ['block2b_activation[0][0]']     \n",
            " agePooling2D)                                                                                    \n",
            "                                                                                                  \n",
            " block2b_se_reshape (Reshape)   (None, 1, 1, 144)    0           ['block2b_se_squeeze[0][0]']     \n",
            "                                                                                                  \n",
            " block2b_se_reduce (Conv2D)     (None, 1, 1, 6)      870         ['block2b_se_reshape[0][0]']     \n",
            "                                                                                                  \n",
            " block2b_se_expand (Conv2D)     (None, 1, 1, 144)    1008        ['block2b_se_reduce[0][0]']      \n",
            "                                                                                                  \n",
            " block2b_se_excite (Multiply)   (None, 61, 61, 144)  0           ['block2b_activation[0][0]',     \n",
            "                                                                  'block2b_se_expand[0][0]']      \n",
            "                                                                                                  \n",
            " block2b_project_conv (Conv2D)  (None, 61, 61, 24)   3456        ['block2b_se_excite[0][0]']      \n",
            "                                                                                                  \n",
            " block2b_project_bn (BatchNorma  (None, 61, 61, 24)  96          ['block2b_project_conv[0][0]']   \n",
            " lization)                                                                                        \n",
            "                                                                                                  \n",
            " block2b_drop (Dropout)         (None, 61, 61, 24)   0           ['block2b_project_bn[0][0]']     \n",
            "                                                                                                  \n",
            " block2b_add (Add)              (None, 61, 61, 24)   0           ['block2b_drop[0][0]',           \n",
            "                                                                  'block2a_project_bn[0][0]']     \n",
            "                                                                                                  \n",
            " block3a_expand_conv (Conv2D)   (None, 61, 61, 144)  3456        ['block2b_add[0][0]']            \n",
            "                                                                                                  \n",
            " block3a_expand_bn (BatchNormal  (None, 61, 61, 144)  576        ['block3a_expand_conv[0][0]']    \n",
            " ization)                                                                                         \n",
            "                                                                                                  \n",
            " block3a_expand_activation (Act  (None, 61, 61, 144)  0          ['block3a_expand_bn[0][0]']      \n",
            " ivation)                                                                                         \n",
            "                                                                                                  \n",
            " block3a_dwconv_pad (ZeroPaddin  (None, 65, 65, 144)  0          ['block3a_expand_activation[0][0]\n",
            " g2D)                                                            ']                               \n",
            "                                                                                                  \n",
            " block3a_dwconv (DepthwiseConv2  (None, 31, 31, 144)  3600       ['block3a_dwconv_pad[0][0]']     \n",
            " D)                                                                                               \n",
            "                                                                                                  \n",
            " block3a_bn (BatchNormalization  (None, 31, 31, 144)  576        ['block3a_dwconv[0][0]']         \n",
            " )                                                                                                \n",
            "                                                                                                  \n",
            " block3a_activation (Activation  (None, 31, 31, 144)  0          ['block3a_bn[0][0]']             \n",
            " )                                                                                                \n",
            "                                                                                                  \n",
            " block3a_se_squeeze (GlobalAver  (None, 144)         0           ['block3a_activation[0][0]']     \n",
            " agePooling2D)                                                                                    \n",
            "                                                                                                  \n",
            " block3a_se_reshape (Reshape)   (None, 1, 1, 144)    0           ['block3a_se_squeeze[0][0]']     \n",
            "                                                                                                  \n",
            " block3a_se_reduce (Conv2D)     (None, 1, 1, 6)      870         ['block3a_se_reshape[0][0]']     \n",
            "                                                                                                  \n",
            " block3a_se_expand (Conv2D)     (None, 1, 1, 144)    1008        ['block3a_se_reduce[0][0]']      \n",
            "                                                                                                  \n",
            " block3a_se_excite (Multiply)   (None, 31, 31, 144)  0           ['block3a_activation[0][0]',     \n",
            "                                                                  'block3a_se_expand[0][0]']      \n",
            "                                                                                                  \n",
            " block3a_project_conv (Conv2D)  (None, 31, 31, 40)   5760        ['block3a_se_excite[0][0]']      \n",
            "                                                                                                  \n",
            " block3a_project_bn (BatchNorma  (None, 31, 31, 40)  160         ['block3a_project_conv[0][0]']   \n",
            " lization)                                                                                        \n",
            "                                                                                                  \n",
            " block3b_expand_conv (Conv2D)   (None, 31, 31, 240)  9600        ['block3a_project_bn[0][0]']     \n",
            "                                                                                                  \n",
            " block3b_expand_bn (BatchNormal  (None, 31, 31, 240)  960        ['block3b_expand_conv[0][0]']    \n",
            " ization)                                                                                         \n",
            "                                                                                                  \n",
            " block3b_expand_activation (Act  (None, 31, 31, 240)  0          ['block3b_expand_bn[0][0]']      \n",
            " ivation)                                                                                         \n",
            "                                                                                                  \n",
            " block3b_dwconv (DepthwiseConv2  (None, 31, 31, 240)  6000       ['block3b_expand_activation[0][0]\n",
            " D)                                                              ']                               \n",
            "                                                                                                  \n",
            " block3b_bn (BatchNormalization  (None, 31, 31, 240)  960        ['block3b_dwconv[0][0]']         \n",
            " )                                                                                                \n",
            "                                                                                                  \n",
            " block3b_activation (Activation  (None, 31, 31, 240)  0          ['block3b_bn[0][0]']             \n",
            " )                                                                                                \n",
            "                                                                                                  \n",
            " block3b_se_squeeze (GlobalAver  (None, 240)         0           ['block3b_activation[0][0]']     \n",
            " agePooling2D)                                                                                    \n",
            "                                                                                                  \n",
            " block3b_se_reshape (Reshape)   (None, 1, 1, 240)    0           ['block3b_se_squeeze[0][0]']     \n",
            "                                                                                                  \n",
            " block3b_se_reduce (Conv2D)     (None, 1, 1, 10)     2410        ['block3b_se_reshape[0][0]']     \n",
            "                                                                                                  \n",
            " block3b_se_expand (Conv2D)     (None, 1, 1, 240)    2640        ['block3b_se_reduce[0][0]']      \n",
            "                                                                                                  \n",
            " block3b_se_excite (Multiply)   (None, 31, 31, 240)  0           ['block3b_activation[0][0]',     \n",
            "                                                                  'block3b_se_expand[0][0]']      \n",
            "                                                                                                  \n",
            " block3b_project_conv (Conv2D)  (None, 31, 31, 40)   9600        ['block3b_se_excite[0][0]']      \n",
            "                                                                                                  \n",
            " block3b_project_bn (BatchNorma  (None, 31, 31, 40)  160         ['block3b_project_conv[0][0]']   \n",
            " lization)                                                                                        \n",
            "                                                                                                  \n",
            " block3b_drop (Dropout)         (None, 31, 31, 40)   0           ['block3b_project_bn[0][0]']     \n",
            "                                                                                                  \n",
            " block3b_add (Add)              (None, 31, 31, 40)   0           ['block3b_drop[0][0]',           \n",
            "                                                                  'block3a_project_bn[0][0]']     \n",
            "                                                                                                  \n",
            " block4a_expand_conv (Conv2D)   (None, 31, 31, 240)  9600        ['block3b_add[0][0]']            \n",
            "                                                                                                  \n",
            " block4a_expand_bn (BatchNormal  (None, 31, 31, 240)  960        ['block4a_expand_conv[0][0]']    \n",
            " ization)                                                                                         \n",
            "                                                                                                  \n",
            " block4a_expand_activation (Act  (None, 31, 31, 240)  0          ['block4a_expand_bn[0][0]']      \n",
            " ivation)                                                                                         \n",
            "                                                                                                  \n",
            " block4a_dwconv_pad (ZeroPaddin  (None, 33, 33, 240)  0          ['block4a_expand_activation[0][0]\n",
            " g2D)                                                            ']                               \n",
            "                                                                                                  \n",
            " block4a_dwconv (DepthwiseConv2  (None, 16, 16, 240)  2160       ['block4a_dwconv_pad[0][0]']     \n",
            " D)                                                                                               \n",
            "                                                                                                  \n",
            " block4a_bn (BatchNormalization  (None, 16, 16, 240)  960        ['block4a_dwconv[0][0]']         \n",
            " )                                                                                                \n",
            "                                                                                                  \n",
            " block4a_activation (Activation  (None, 16, 16, 240)  0          ['block4a_bn[0][0]']             \n",
            " )                                                                                                \n",
            "                                                                                                  \n",
            " block4a_se_squeeze (GlobalAver  (None, 240)         0           ['block4a_activation[0][0]']     \n",
            " agePooling2D)                                                                                    \n",
            "                                                                                                  \n",
            " block4a_se_reshape (Reshape)   (None, 1, 1, 240)    0           ['block4a_se_squeeze[0][0]']     \n",
            "                                                                                                  \n",
            " block4a_se_reduce (Conv2D)     (None, 1, 1, 10)     2410        ['block4a_se_reshape[0][0]']     \n",
            "                                                                                                  \n",
            " block4a_se_expand (Conv2D)     (None, 1, 1, 240)    2640        ['block4a_se_reduce[0][0]']      \n",
            "                                                                                                  \n",
            " block4a_se_excite (Multiply)   (None, 16, 16, 240)  0           ['block4a_activation[0][0]',     \n",
            "                                                                  'block4a_se_expand[0][0]']      \n",
            "                                                                                                  \n",
            " block4a_project_conv (Conv2D)  (None, 16, 16, 80)   19200       ['block4a_se_excite[0][0]']      \n",
            "                                                                                                  \n",
            " block4a_project_bn (BatchNorma  (None, 16, 16, 80)  320         ['block4a_project_conv[0][0]']   \n",
            " lization)                                                                                        \n",
            "                                                                                                  \n",
            " block4b_expand_conv (Conv2D)   (None, 16, 16, 480)  38400       ['block4a_project_bn[0][0]']     \n",
            "                                                                                                  \n",
            " block4b_expand_bn (BatchNormal  (None, 16, 16, 480)  1920       ['block4b_expand_conv[0][0]']    \n",
            " ization)                                                                                         \n",
            "                                                                                                  \n",
            " block4b_expand_activation (Act  (None, 16, 16, 480)  0          ['block4b_expand_bn[0][0]']      \n",
            " ivation)                                                                                         \n",
            "                                                                                                  \n",
            " block4b_dwconv (DepthwiseConv2  (None, 16, 16, 480)  4320       ['block4b_expand_activation[0][0]\n",
            " D)                                                              ']                               \n",
            "                                                                                                  \n",
            " block4b_bn (BatchNormalization  (None, 16, 16, 480)  1920       ['block4b_dwconv[0][0]']         \n",
            " )                                                                                                \n",
            "                                                                                                  \n",
            " block4b_activation (Activation  (None, 16, 16, 480)  0          ['block4b_bn[0][0]']             \n",
            " )                                                                                                \n",
            "                                                                                                  \n",
            " block4b_se_squeeze (GlobalAver  (None, 480)         0           ['block4b_activation[0][0]']     \n",
            " agePooling2D)                                                                                    \n",
            "                                                                                                  \n",
            " block4b_se_reshape (Reshape)   (None, 1, 1, 480)    0           ['block4b_se_squeeze[0][0]']     \n",
            "                                                                                                  \n",
            " block4b_se_reduce (Conv2D)     (None, 1, 1, 20)     9620        ['block4b_se_reshape[0][0]']     \n",
            "                                                                                                  \n",
            " block4b_se_expand (Conv2D)     (None, 1, 1, 480)    10080       ['block4b_se_reduce[0][0]']      \n",
            "                                                                                                  \n",
            " block4b_se_excite (Multiply)   (None, 16, 16, 480)  0           ['block4b_activation[0][0]',     \n",
            "                                                                  'block4b_se_expand[0][0]']      \n",
            "                                                                                                  \n",
            " block4b_project_conv (Conv2D)  (None, 16, 16, 80)   38400       ['block4b_se_excite[0][0]']      \n",
            "                                                                                                  \n",
            " block4b_project_bn (BatchNorma  (None, 16, 16, 80)  320         ['block4b_project_conv[0][0]']   \n",
            " lization)                                                                                        \n",
            "                                                                                                  \n",
            " block4b_drop (Dropout)         (None, 16, 16, 80)   0           ['block4b_project_bn[0][0]']     \n",
            "                                                                                                  \n",
            " block4b_add (Add)              (None, 16, 16, 80)   0           ['block4b_drop[0][0]',           \n",
            "                                                                  'block4a_project_bn[0][0]']     \n",
            "                                                                                                  \n",
            " block4c_expand_conv (Conv2D)   (None, 16, 16, 480)  38400       ['block4b_add[0][0]']            \n",
            "                                                                                                  \n",
            " block4c_expand_bn (BatchNormal  (None, 16, 16, 480)  1920       ['block4c_expand_conv[0][0]']    \n",
            " ization)                                                                                         \n",
            "                                                                                                  \n",
            " block4c_expand_activation (Act  (None, 16, 16, 480)  0          ['block4c_expand_bn[0][0]']      \n",
            " ivation)                                                                                         \n",
            "                                                                                                  \n",
            " block4c_dwconv (DepthwiseConv2  (None, 16, 16, 480)  4320       ['block4c_expand_activation[0][0]\n",
            " D)                                                              ']                               \n",
            "                                                                                                  \n",
            " block4c_bn (BatchNormalization  (None, 16, 16, 480)  1920       ['block4c_dwconv[0][0]']         \n",
            " )                                                                                                \n",
            "                                                                                                  \n",
            " block4c_activation (Activation  (None, 16, 16, 480)  0          ['block4c_bn[0][0]']             \n",
            " )                                                                                                \n",
            "                                                                                                  \n",
            " block4c_se_squeeze (GlobalAver  (None, 480)         0           ['block4c_activation[0][0]']     \n",
            " agePooling2D)                                                                                    \n",
            "                                                                                                  \n",
            " block4c_se_reshape (Reshape)   (None, 1, 1, 480)    0           ['block4c_se_squeeze[0][0]']     \n",
            "                                                                                                  \n",
            " block4c_se_reduce (Conv2D)     (None, 1, 1, 20)     9620        ['block4c_se_reshape[0][0]']     \n",
            "                                                                                                  \n",
            " block4c_se_expand (Conv2D)     (None, 1, 1, 480)    10080       ['block4c_se_reduce[0][0]']      \n",
            "                                                                                                  \n",
            " block4c_se_excite (Multiply)   (None, 16, 16, 480)  0           ['block4c_activation[0][0]',     \n",
            "                                                                  'block4c_se_expand[0][0]']      \n",
            "                                                                                                  \n",
            " block4c_project_conv (Conv2D)  (None, 16, 16, 80)   38400       ['block4c_se_excite[0][0]']      \n",
            "                                                                                                  \n",
            " block4c_project_bn (BatchNorma  (None, 16, 16, 80)  320         ['block4c_project_conv[0][0]']   \n",
            " lization)                                                                                        \n",
            "                                                                                                  \n",
            " block4c_drop (Dropout)         (None, 16, 16, 80)   0           ['block4c_project_bn[0][0]']     \n",
            "                                                                                                  \n",
            " block4c_add (Add)              (None, 16, 16, 80)   0           ['block4c_drop[0][0]',           \n",
            "                                                                  'block4b_add[0][0]']            \n",
            "                                                                                                  \n",
            " block5a_expand_conv (Conv2D)   (None, 16, 16, 480)  38400       ['block4c_add[0][0]']            \n",
            "                                                                                                  \n",
            " block5a_expand_bn (BatchNormal  (None, 16, 16, 480)  1920       ['block5a_expand_conv[0][0]']    \n",
            " ization)                                                                                         \n",
            "                                                                                                  \n",
            " block5a_expand_activation (Act  (None, 16, 16, 480)  0          ['block5a_expand_bn[0][0]']      \n",
            " ivation)                                                                                         \n",
            "                                                                                                  \n",
            " block5a_dwconv (DepthwiseConv2  (None, 16, 16, 480)  12000      ['block5a_expand_activation[0][0]\n",
            " D)                                                              ']                               \n",
            "                                                                                                  \n",
            " block5a_bn (BatchNormalization  (None, 16, 16, 480)  1920       ['block5a_dwconv[0][0]']         \n",
            " )                                                                                                \n",
            "                                                                                                  \n",
            " block5a_activation (Activation  (None, 16, 16, 480)  0          ['block5a_bn[0][0]']             \n",
            " )                                                                                                \n",
            "                                                                                                  \n",
            " block5a_se_squeeze (GlobalAver  (None, 480)         0           ['block5a_activation[0][0]']     \n",
            " agePooling2D)                                                                                    \n",
            "                                                                                                  \n",
            " block5a_se_reshape (Reshape)   (None, 1, 1, 480)    0           ['block5a_se_squeeze[0][0]']     \n",
            "                                                                                                  \n",
            " block5a_se_reduce (Conv2D)     (None, 1, 1, 20)     9620        ['block5a_se_reshape[0][0]']     \n",
            "                                                                                                  \n",
            " block5a_se_expand (Conv2D)     (None, 1, 1, 480)    10080       ['block5a_se_reduce[0][0]']      \n",
            "                                                                                                  \n",
            " block5a_se_excite (Multiply)   (None, 16, 16, 480)  0           ['block5a_activation[0][0]',     \n",
            "                                                                  'block5a_se_expand[0][0]']      \n",
            "                                                                                                  \n",
            " block5a_project_conv (Conv2D)  (None, 16, 16, 112)  53760       ['block5a_se_excite[0][0]']      \n",
            "                                                                                                  \n",
            " block5a_project_bn (BatchNorma  (None, 16, 16, 112)  448        ['block5a_project_conv[0][0]']   \n",
            " lization)                                                                                        \n",
            "                                                                                                  \n",
            " block5b_expand_conv (Conv2D)   (None, 16, 16, 672)  75264       ['block5a_project_bn[0][0]']     \n",
            "                                                                                                  \n",
            " block5b_expand_bn (BatchNormal  (None, 16, 16, 672)  2688       ['block5b_expand_conv[0][0]']    \n",
            " ization)                                                                                         \n",
            "                                                                                                  \n",
            " block5b_expand_activation (Act  (None, 16, 16, 672)  0          ['block5b_expand_bn[0][0]']      \n",
            " ivation)                                                                                         \n",
            "                                                                                                  \n",
            " block5b_dwconv (DepthwiseConv2  (None, 16, 16, 672)  16800      ['block5b_expand_activation[0][0]\n",
            " D)                                                              ']                               \n",
            "                                                                                                  \n",
            " block5b_bn (BatchNormalization  (None, 16, 16, 672)  2688       ['block5b_dwconv[0][0]']         \n",
            " )                                                                                                \n",
            "                                                                                                  \n",
            " block5b_activation (Activation  (None, 16, 16, 672)  0          ['block5b_bn[0][0]']             \n",
            " )                                                                                                \n",
            "                                                                                                  \n",
            " block5b_se_squeeze (GlobalAver  (None, 672)         0           ['block5b_activation[0][0]']     \n",
            " agePooling2D)                                                                                    \n",
            "                                                                                                  \n",
            " block5b_se_reshape (Reshape)   (None, 1, 1, 672)    0           ['block5b_se_squeeze[0][0]']     \n",
            "                                                                                                  \n",
            " block5b_se_reduce (Conv2D)     (None, 1, 1, 28)     18844       ['block5b_se_reshape[0][0]']     \n",
            "                                                                                                  \n",
            " block5b_se_expand (Conv2D)     (None, 1, 1, 672)    19488       ['block5b_se_reduce[0][0]']      \n",
            "                                                                                                  \n",
            " block5b_se_excite (Multiply)   (None, 16, 16, 672)  0           ['block5b_activation[0][0]',     \n",
            "                                                                  'block5b_se_expand[0][0]']      \n",
            "                                                                                                  \n",
            " block5b_project_conv (Conv2D)  (None, 16, 16, 112)  75264       ['block5b_se_excite[0][0]']      \n",
            "                                                                                                  \n",
            " block5b_project_bn (BatchNorma  (None, 16, 16, 112)  448        ['block5b_project_conv[0][0]']   \n",
            " lization)                                                                                        \n",
            "                                                                                                  \n",
            " block5b_drop (Dropout)         (None, 16, 16, 112)  0           ['block5b_project_bn[0][0]']     \n",
            "                                                                                                  \n",
            " block5b_add (Add)              (None, 16, 16, 112)  0           ['block5b_drop[0][0]',           \n",
            "                                                                  'block5a_project_bn[0][0]']     \n",
            "                                                                                                  \n",
            " block5c_expand_conv (Conv2D)   (None, 16, 16, 672)  75264       ['block5b_add[0][0]']            \n",
            "                                                                                                  \n",
            " block5c_expand_bn (BatchNormal  (None, 16, 16, 672)  2688       ['block5c_expand_conv[0][0]']    \n",
            " ization)                                                                                         \n",
            "                                                                                                  \n",
            " block5c_expand_activation (Act  (None, 16, 16, 672)  0          ['block5c_expand_bn[0][0]']      \n",
            " ivation)                                                                                         \n",
            "                                                                                                  \n",
            " block5c_dwconv (DepthwiseConv2  (None, 16, 16, 672)  16800      ['block5c_expand_activation[0][0]\n",
            " D)                                                              ']                               \n",
            "                                                                                                  \n",
            " block5c_bn (BatchNormalization  (None, 16, 16, 672)  2688       ['block5c_dwconv[0][0]']         \n",
            " )                                                                                                \n",
            "                                                                                                  \n",
            " block5c_activation (Activation  (None, 16, 16, 672)  0          ['block5c_bn[0][0]']             \n",
            " )                                                                                                \n",
            "                                                                                                  \n",
            " block5c_se_squeeze (GlobalAver  (None, 672)         0           ['block5c_activation[0][0]']     \n",
            " agePooling2D)                                                                                    \n",
            "                                                                                                  \n",
            " block5c_se_reshape (Reshape)   (None, 1, 1, 672)    0           ['block5c_se_squeeze[0][0]']     \n",
            "                                                                                                  \n",
            " block5c_se_reduce (Conv2D)     (None, 1, 1, 28)     18844       ['block5c_se_reshape[0][0]']     \n",
            "                                                                                                  \n",
            " block5c_se_expand (Conv2D)     (None, 1, 1, 672)    19488       ['block5c_se_reduce[0][0]']      \n",
            "                                                                                                  \n",
            " block5c_se_excite (Multiply)   (None, 16, 16, 672)  0           ['block5c_activation[0][0]',     \n",
            "                                                                  'block5c_se_expand[0][0]']      \n",
            "                                                                                                  \n",
            " block5c_project_conv (Conv2D)  (None, 16, 16, 112)  75264       ['block5c_se_excite[0][0]']      \n",
            "                                                                                                  \n",
            " block5c_project_bn (BatchNorma  (None, 16, 16, 112)  448        ['block5c_project_conv[0][0]']   \n",
            " lization)                                                                                        \n",
            "                                                                                                  \n",
            " block5c_drop (Dropout)         (None, 16, 16, 112)  0           ['block5c_project_bn[0][0]']     \n",
            "                                                                                                  \n",
            " block5c_add (Add)              (None, 16, 16, 112)  0           ['block5c_drop[0][0]',           \n",
            "                                                                  'block5b_add[0][0]']            \n",
            "                                                                                                  \n",
            " block6a_expand_conv (Conv2D)   (None, 16, 16, 672)  75264       ['block5c_add[0][0]']            \n",
            "                                                                                                  \n",
            " block6a_expand_bn (BatchNormal  (None, 16, 16, 672)  2688       ['block6a_expand_conv[0][0]']    \n",
            " ization)                                                                                         \n",
            "                                                                                                  \n",
            " block6a_expand_activation (Act  (None, 16, 16, 672)  0          ['block6a_expand_bn[0][0]']      \n",
            " ivation)                                                                                         \n",
            "                                                                                                  \n",
            " block6a_dwconv_pad (ZeroPaddin  (None, 19, 19, 672)  0          ['block6a_expand_activation[0][0]\n",
            " g2D)                                                            ']                               \n",
            "                                                                                                  \n",
            " block6a_dwconv (DepthwiseConv2  (None, 8, 8, 672)   16800       ['block6a_dwconv_pad[0][0]']     \n",
            " D)                                                                                               \n",
            "                                                                                                  \n",
            " block6a_bn (BatchNormalization  (None, 8, 8, 672)   2688        ['block6a_dwconv[0][0]']         \n",
            " )                                                                                                \n",
            "                                                                                                  \n",
            " block6a_activation (Activation  (None, 8, 8, 672)   0           ['block6a_bn[0][0]']             \n",
            " )                                                                                                \n",
            "                                                                                                  \n",
            " block6a_se_squeeze (GlobalAver  (None, 672)         0           ['block6a_activation[0][0]']     \n",
            " agePooling2D)                                                                                    \n",
            "                                                                                                  \n",
            " block6a_se_reshape (Reshape)   (None, 1, 1, 672)    0           ['block6a_se_squeeze[0][0]']     \n",
            "                                                                                                  \n",
            " block6a_se_reduce (Conv2D)     (None, 1, 1, 28)     18844       ['block6a_se_reshape[0][0]']     \n",
            "                                                                                                  \n",
            " block6a_se_expand (Conv2D)     (None, 1, 1, 672)    19488       ['block6a_se_reduce[0][0]']      \n",
            "                                                                                                  \n",
            " block6a_se_excite (Multiply)   (None, 8, 8, 672)    0           ['block6a_activation[0][0]',     \n",
            "                                                                  'block6a_se_expand[0][0]']      \n",
            "                                                                                                  \n",
            " block6a_project_conv (Conv2D)  (None, 8, 8, 192)    129024      ['block6a_se_excite[0][0]']      \n",
            "                                                                                                  \n",
            " block6a_project_bn (BatchNorma  (None, 8, 8, 192)   768         ['block6a_project_conv[0][0]']   \n",
            " lization)                                                                                        \n",
            "                                                                                                  \n",
            " block6b_expand_conv (Conv2D)   (None, 8, 8, 1152)   221184      ['block6a_project_bn[0][0]']     \n",
            "                                                                                                  \n",
            " block6b_expand_bn (BatchNormal  (None, 8, 8, 1152)  4608        ['block6b_expand_conv[0][0]']    \n",
            " ization)                                                                                         \n",
            "                                                                                                  \n",
            " block6b_expand_activation (Act  (None, 8, 8, 1152)  0           ['block6b_expand_bn[0][0]']      \n",
            " ivation)                                                                                         \n",
            "                                                                                                  \n",
            " block6b_dwconv (DepthwiseConv2  (None, 8, 8, 1152)  28800       ['block6b_expand_activation[0][0]\n",
            " D)                                                              ']                               \n",
            "                                                                                                  \n",
            " block6b_bn (BatchNormalization  (None, 8, 8, 1152)  4608        ['block6b_dwconv[0][0]']         \n",
            " )                                                                                                \n",
            "                                                                                                  \n",
            " block6b_activation (Activation  (None, 8, 8, 1152)  0           ['block6b_bn[0][0]']             \n",
            " )                                                                                                \n",
            "                                                                                                  \n",
            " block6b_se_squeeze (GlobalAver  (None, 1152)        0           ['block6b_activation[0][0]']     \n",
            " agePooling2D)                                                                                    \n",
            "                                                                                                  \n",
            " block6b_se_reshape (Reshape)   (None, 1, 1, 1152)   0           ['block6b_se_squeeze[0][0]']     \n",
            "                                                                                                  \n",
            " block6b_se_reduce (Conv2D)     (None, 1, 1, 48)     55344       ['block6b_se_reshape[0][0]']     \n",
            "                                                                                                  \n",
            " block6b_se_expand (Conv2D)     (None, 1, 1, 1152)   56448       ['block6b_se_reduce[0][0]']      \n",
            "                                                                                                  \n",
            " block6b_se_excite (Multiply)   (None, 8, 8, 1152)   0           ['block6b_activation[0][0]',     \n",
            "                                                                  'block6b_se_expand[0][0]']      \n",
            "                                                                                                  \n",
            " block6b_project_conv (Conv2D)  (None, 8, 8, 192)    221184      ['block6b_se_excite[0][0]']      \n",
            "                                                                                                  \n",
            " block6b_project_bn (BatchNorma  (None, 8, 8, 192)   768         ['block6b_project_conv[0][0]']   \n",
            " lization)                                                                                        \n",
            "                                                                                                  \n",
            " block6b_drop (Dropout)         (None, 8, 8, 192)    0           ['block6b_project_bn[0][0]']     \n",
            "                                                                                                  \n",
            " block6b_add (Add)              (None, 8, 8, 192)    0           ['block6b_drop[0][0]',           \n",
            "                                                                  'block6a_project_bn[0][0]']     \n",
            "                                                                                                  \n",
            " block6c_expand_conv (Conv2D)   (None, 8, 8, 1152)   221184      ['block6b_add[0][0]']            \n",
            "                                                                                                  \n",
            " block6c_expand_bn (BatchNormal  (None, 8, 8, 1152)  4608        ['block6c_expand_conv[0][0]']    \n",
            " ization)                                                                                         \n",
            "                                                                                                  \n",
            " block6c_expand_activation (Act  (None, 8, 8, 1152)  0           ['block6c_expand_bn[0][0]']      \n",
            " ivation)                                                                                         \n",
            "                                                                                                  \n",
            " block6c_dwconv (DepthwiseConv2  (None, 8, 8, 1152)  28800       ['block6c_expand_activation[0][0]\n",
            " D)                                                              ']                               \n",
            "                                                                                                  \n",
            " block6c_bn (BatchNormalization  (None, 8, 8, 1152)  4608        ['block6c_dwconv[0][0]']         \n",
            " )                                                                                                \n",
            "                                                                                                  \n",
            " block6c_activation (Activation  (None, 8, 8, 1152)  0           ['block6c_bn[0][0]']             \n",
            " )                                                                                                \n",
            "                                                                                                  \n",
            " block6c_se_squeeze (GlobalAver  (None, 1152)        0           ['block6c_activation[0][0]']     \n",
            " agePooling2D)                                                                                    \n",
            "                                                                                                  \n",
            " block6c_se_reshape (Reshape)   (None, 1, 1, 1152)   0           ['block6c_se_squeeze[0][0]']     \n",
            "                                                                                                  \n",
            " block6c_se_reduce (Conv2D)     (None, 1, 1, 48)     55344       ['block6c_se_reshape[0][0]']     \n",
            "                                                                                                  \n",
            " block6c_se_expand (Conv2D)     (None, 1, 1, 1152)   56448       ['block6c_se_reduce[0][0]']      \n",
            "                                                                                                  \n",
            " block6c_se_excite (Multiply)   (None, 8, 8, 1152)   0           ['block6c_activation[0][0]',     \n",
            "                                                                  'block6c_se_expand[0][0]']      \n",
            "                                                                                                  \n",
            " block6c_project_conv (Conv2D)  (None, 8, 8, 192)    221184      ['block6c_se_excite[0][0]']      \n",
            "                                                                                                  \n",
            " block6c_project_bn (BatchNorma  (None, 8, 8, 192)   768         ['block6c_project_conv[0][0]']   \n",
            " lization)                                                                                        \n",
            "                                                                                                  \n",
            " block6c_drop (Dropout)         (None, 8, 8, 192)    0           ['block6c_project_bn[0][0]']     \n",
            "                                                                                                  \n",
            " block6c_add (Add)              (None, 8, 8, 192)    0           ['block6c_drop[0][0]',           \n",
            "                                                                  'block6b_add[0][0]']            \n",
            "                                                                                                  \n",
            " block6d_expand_conv (Conv2D)   (None, 8, 8, 1152)   221184      ['block6c_add[0][0]']            \n",
            "                                                                                                  \n",
            " block6d_expand_bn (BatchNormal  (None, 8, 8, 1152)  4608        ['block6d_expand_conv[0][0]']    \n",
            " ization)                                                                                         \n",
            "                                                                                                  \n",
            " block6d_expand_activation (Act  (None, 8, 8, 1152)  0           ['block6d_expand_bn[0][0]']      \n",
            " ivation)                                                                                         \n",
            "                                                                                                  \n",
            " block6d_dwconv (DepthwiseConv2  (None, 8, 8, 1152)  28800       ['block6d_expand_activation[0][0]\n",
            " D)                                                              ']                               \n",
            "                                                                                                  \n",
            " block6d_bn (BatchNormalization  (None, 8, 8, 1152)  4608        ['block6d_dwconv[0][0]']         \n",
            " )                                                                                                \n",
            "                                                                                                  \n",
            " block6d_activation (Activation  (None, 8, 8, 1152)  0           ['block6d_bn[0][0]']             \n",
            " )                                                                                                \n",
            "                                                                                                  \n",
            " block6d_se_squeeze (GlobalAver  (None, 1152)        0           ['block6d_activation[0][0]']     \n",
            " agePooling2D)                                                                                    \n",
            "                                                                                                  \n",
            " block6d_se_reshape (Reshape)   (None, 1, 1, 1152)   0           ['block6d_se_squeeze[0][0]']     \n",
            "                                                                                                  \n",
            " block6d_se_reduce (Conv2D)     (None, 1, 1, 48)     55344       ['block6d_se_reshape[0][0]']     \n",
            "                                                                                                  \n",
            " block6d_se_expand (Conv2D)     (None, 1, 1, 1152)   56448       ['block6d_se_reduce[0][0]']      \n",
            "                                                                                                  \n",
            " block6d_se_excite (Multiply)   (None, 8, 8, 1152)   0           ['block6d_activation[0][0]',     \n",
            "                                                                  'block6d_se_expand[0][0]']      \n",
            "                                                                                                  \n",
            " block6d_project_conv (Conv2D)  (None, 8, 8, 192)    221184      ['block6d_se_excite[0][0]']      \n",
            "                                                                                                  \n",
            " block6d_project_bn (BatchNorma  (None, 8, 8, 192)   768         ['block6d_project_conv[0][0]']   \n",
            " lization)                                                                                        \n",
            "                                                                                                  \n",
            " block6d_drop (Dropout)         (None, 8, 8, 192)    0           ['block6d_project_bn[0][0]']     \n",
            "                                                                                                  \n",
            " block6d_add (Add)              (None, 8, 8, 192)    0           ['block6d_drop[0][0]',           \n",
            "                                                                  'block6c_add[0][0]']            \n",
            "                                                                                                  \n",
            " block7a_expand_conv (Conv2D)   (None, 8, 8, 1152)   221184      ['block6d_add[0][0]']            \n",
            "                                                                                                  \n",
            " block7a_expand_bn (BatchNormal  (None, 8, 8, 1152)  4608        ['block7a_expand_conv[0][0]']    \n",
            " ization)                                                                                         \n",
            "                                                                                                  \n",
            " block7a_expand_activation (Act  (None, 8, 8, 1152)  0           ['block7a_expand_bn[0][0]']      \n",
            " ivation)                                                                                         \n",
            "                                                                                                  \n",
            " block7a_dwconv (DepthwiseConv2  (None, 8, 8, 1152)  10368       ['block7a_expand_activation[0][0]\n",
            " D)                                                              ']                               \n",
            "                                                                                                  \n",
            " block7a_bn (BatchNormalization  (None, 8, 8, 1152)  4608        ['block7a_dwconv[0][0]']         \n",
            " )                                                                                                \n",
            "                                                                                                  \n",
            " block7a_activation (Activation  (None, 8, 8, 1152)  0           ['block7a_bn[0][0]']             \n",
            " )                                                                                                \n",
            "                                                                                                  \n",
            " block7a_se_squeeze (GlobalAver  (None, 1152)        0           ['block7a_activation[0][0]']     \n",
            " agePooling2D)                                                                                    \n",
            "                                                                                                  \n",
            " block7a_se_reshape (Reshape)   (None, 1, 1, 1152)   0           ['block7a_se_squeeze[0][0]']     \n",
            "                                                                                                  \n",
            " block7a_se_reduce (Conv2D)     (None, 1, 1, 48)     55344       ['block7a_se_reshape[0][0]']     \n",
            "                                                                                                  \n",
            " block7a_se_expand (Conv2D)     (None, 1, 1, 1152)   56448       ['block7a_se_reduce[0][0]']      \n",
            "                                                                                                  \n",
            " block7a_se_excite (Multiply)   (None, 8, 8, 1152)   0           ['block7a_activation[0][0]',     \n",
            "                                                                  'block7a_se_expand[0][0]']      \n",
            "                                                                                                  \n",
            " block7a_project_conv (Conv2D)  (None, 8, 8, 320)    368640      ['block7a_se_excite[0][0]']      \n",
            "                                                                                                  \n",
            " block7a_project_bn (BatchNorma  (None, 8, 8, 320)   1280        ['block7a_project_conv[0][0]']   \n",
            " lization)                                                                                        \n",
            "                                                                                                  \n",
            " top_conv (Conv2D)              (None, 8, 8, 1280)   409600      ['block7a_project_bn[0][0]']     \n",
            "                                                                                                  \n",
            " top_bn (BatchNormalization)    (None, 8, 8, 1280)   5120        ['top_conv[0][0]']               \n",
            "                                                                                                  \n",
            " top_activation (Activation)    (None, 8, 8, 1280)   0           ['top_bn[0][0]']                 \n",
            "                                                                                                  \n",
            "==================================================================================================\n",
            "Total params: 4,049,571\n",
            "Trainable params: 0\n",
            "Non-trainable params: 4,049,571\n",
            "__________________________________________________________________________________________________\n"
          ]
        }
      ]
    },
    {
      "cell_type": "markdown",
      "source": [
        "## Get Feature vector from Feature Extractor\n"
      ],
      "metadata": {
        "id": "3fxcisE9lrJS"
      }
    },
    {
      "cell_type": "code",
      "source": [
        "# Get Train Feature Vector\n",
        "\n",
        "X_train = feature_extractor.predict(train_generator)"
      ],
      "metadata": {
        "colab": {
          "base_uri": "https://localhost:8080/"
        },
        "id": "HqzzYaUzkWzu",
        "outputId": "fe653bfc-fad6-4e11-85f0-dacd7fd05d9f"
      },
      "execution_count": null,
      "outputs": [
        {
          "output_type": "stream",
          "name": "stdout",
          "text": [
            "140/140 [==============================] - 70s 489ms/step\n"
          ]
        }
      ]
    },
    {
      "cell_type": "code",
      "source": [
        "print(f'''\n",
        "Lenght X_train: {len(X_train)}\n",
        "SHape X_train: {X_train.shape}''')"
      ],
      "metadata": {
        "colab": {
          "base_uri": "https://localhost:8080/"
        },
        "id": "UDmh1_B6iUCY",
        "outputId": "6929e0bb-9e2c-4660-bf15-698f7853ee7a"
      },
      "execution_count": null,
      "outputs": [
        {
          "output_type": "stream",
          "name": "stdout",
          "text": [
            "\n",
            "Lenght X_train: 2239\n",
            "SHape X_train: (2239, 8, 8, 1280)\n"
          ]
        }
      ]
    },
    {
      "cell_type": "code",
      "source": [
        "X_train[:3]"
      ],
      "metadata": {
        "colab": {
          "base_uri": "https://localhost:8080/"
        },
        "id": "AHDq3T67lJVr",
        "outputId": "6f418442-e4f7-4eea-f014-1828ef0d950b"
      },
      "execution_count": null,
      "outputs": [
        {
          "output_type": "execute_result",
          "data": {
            "text/plain": [
              "array([[[[-0.23646809, -0.1823909 , -0.27704486, ..., -0.23443298,\n",
              "          -0.19135614,  0.45765632],\n",
              "         [-0.13685168, -0.18223824, -0.2767402 , ..., -0.25699493,\n",
              "          -0.16368058,  0.19302753],\n",
              "         [-0.13327843, -0.1446071 , -0.23607174, ..., -0.24136695,\n",
              "          -0.16115925,  0.0671019 ],\n",
              "         ...,\n",
              "         [-0.14196208, -0.14757769, -0.24192838, ..., -0.23893605,\n",
              "          -0.1620943 ,  0.06754238],\n",
              "         [-0.15318835, -0.17293355, -0.2775066 , ..., -0.24297255,\n",
              "          -0.15310368,  0.17487633],\n",
              "         [-0.25570744, -0.1837453 , -0.27822387, ..., -0.23920907,\n",
              "          -0.19192564,  0.50020427]],\n",
              "\n",
              "        [[-0.18106523, -0.15049772, -0.27671826, ..., -0.21344467,\n",
              "          -0.11038171,  0.42714328],\n",
              "         [-0.11371599, -0.12861782, -0.26550865, ..., -0.24234371,\n",
              "          -0.08395082, -0.10204473],\n",
              "         [-0.10066222, -0.10667762, -0.22565317, ..., -0.22267628,\n",
              "          -0.08581211, -0.20909514],\n",
              "         ...,\n",
              "         [-0.10920049, -0.10906168, -0.23873693, ..., -0.22032951,\n",
              "          -0.08895227, -0.21277754],\n",
              "         [-0.15262778, -0.13352652, -0.2557615 , ..., -0.23051389,\n",
              "          -0.08697806, -0.05474675],\n",
              "         [-0.2222762 , -0.16341943, -0.2681751 , ..., -0.2201133 ,\n",
              "          -0.12691236,  0.5366101 ]],\n",
              "\n",
              "        [[-0.14962533, -0.14259948, -0.2756865 , ..., -0.18499789,\n",
              "          -0.11015851,  0.53025025],\n",
              "         [-0.0830457 , -0.11799067, -0.26862976, ..., -0.21381775,\n",
              "          -0.07305024, -0.15480827],\n",
              "         [-0.06923321, -0.09259813, -0.25669622, ..., -0.19487979,\n",
              "          -0.06901146, -0.25077394],\n",
              "         ...,\n",
              "         [-0.0781109 , -0.09592927, -0.266959  , ..., -0.19083935,\n",
              "          -0.0747036 , -0.25196233],\n",
              "         [-0.11579074, -0.12364471, -0.26263133, ..., -0.19907701,\n",
              "          -0.08088784, -0.14292364],\n",
              "         [-0.19127963, -0.16047889, -0.27072516, ..., -0.19566303,\n",
              "          -0.13820913,  0.58238584]],\n",
              "\n",
              "        ...,\n",
              "\n",
              "        [[-0.13333751, -0.14867848, -0.27818128, ..., -0.20939755,\n",
              "          -0.12973183,  0.5886329 ],\n",
              "         [-0.07524249, -0.11880505, -0.26977158, ..., -0.23556773,\n",
              "          -0.09288585, -0.11846226],\n",
              "         [-0.0614164 , -0.0919447 , -0.2612338 , ..., -0.21313986,\n",
              "          -0.08443898, -0.24857791],\n",
              "         ...,\n",
              "         [-0.07705477, -0.10180793, -0.25104094, ..., -0.21904361,\n",
              "          -0.09420697, -0.2324945 ],\n",
              "         [-0.11149211, -0.13367574, -0.26626202, ..., -0.22396113,\n",
              "          -0.10470966, -0.10920151],\n",
              "         [-0.18792036, -0.19794309, -0.26503146, ..., -0.24658313,\n",
              "          -0.17660852,  0.71967673]],\n",
              "\n",
              "        [[-0.13790774, -0.17440021, -0.2748515 , ..., -0.21684763,\n",
              "          -0.15102258,  0.32253185],\n",
              "         [-0.08806594, -0.138599  , -0.27713913, ..., -0.2207352 ,\n",
              "          -0.12043761, -0.09380774],\n",
              "         [-0.08932493, -0.11096019, -0.26389217, ..., -0.20872706,\n",
              "          -0.11607015, -0.20511737],\n",
              "         ...,\n",
              "         [-0.102337  , -0.11920721, -0.25503197, ..., -0.21902378,\n",
              "          -0.12162526, -0.1830414 ],\n",
              "         [-0.10555693, -0.12533677, -0.27141768, ..., -0.15965514,\n",
              "          -0.10477048, -0.18702088],\n",
              "         [-0.12660511, -0.19287917, -0.25027946, ..., -0.1817936 ,\n",
              "          -0.1431936 , -0.11735974]],\n",
              "\n",
              "        [[-0.27257603, -0.22595939,  0.36812562, ..., -0.2679137 ,\n",
              "          -0.27292436,  0.5838369 ],\n",
              "         [-0.20107774, -0.17051348,  0.3120872 , ..., -0.21737437,\n",
              "          -0.19499485,  0.12792817],\n",
              "         [-0.21159494, -0.1494492 ,  0.3917251 , ..., -0.20033498,\n",
              "          -0.17913908,  0.12822323],\n",
              "         ...,\n",
              "         [-0.22744152, -0.16644773,  0.37079442, ..., -0.20616469,\n",
              "          -0.1848869 ,  0.24877685],\n",
              "         [-0.11569904, -0.1419472 ,  0.1151498 , ..., -0.15020621,\n",
              "          -0.16063377, -0.20714928],\n",
              "         [ 3.2574866 ,  2.3664124 ,  2.8018408 , ...,  0.6475195 ,\n",
              "           3.791099  ,  1.2270839 ]]],\n",
              "\n",
              "\n",
              "       [[[-0.2357233 , -0.18255919, -0.2770312 , ..., -0.23408929,\n",
              "          -0.19165109,  0.45548394],\n",
              "         [-0.13568892, -0.18239652, -0.27686518, ..., -0.2575014 ,\n",
              "          -0.16418393,  0.19269107],\n",
              "         [-0.13145842, -0.1446023 , -0.23687913, ..., -0.242605  ,\n",
              "          -0.16133732,  0.06567047],\n",
              "         ...,\n",
              "         [-0.14053534, -0.14744921, -0.24218017, ..., -0.2398425 ,\n",
              "          -0.16247572,  0.06746332],\n",
              "         [-0.15136383, -0.17304969, -0.27765363, ..., -0.24401666,\n",
              "          -0.15364146,  0.17566319],\n",
              "         [-0.2547219 , -0.18461516, -0.27817708, ..., -0.23926914,\n",
              "          -0.19218907,  0.5030397 ]],\n",
              "\n",
              "        [[-0.18012543, -0.15034878, -0.2767678 , ..., -0.21286684,\n",
              "          -0.11046164,  0.42191356],\n",
              "         [-0.11256821, -0.12827148, -0.26560685, ..., -0.24253805,\n",
              "          -0.08398599, -0.10371495],\n",
              "         [-0.09902781, -0.10642655, -0.22616747, ..., -0.22382964,\n",
              "          -0.08578842, -0.20986287],\n",
              "         ...,\n",
              "         [-0.10807329, -0.10860717, -0.23808314, ..., -0.22090845,\n",
              "          -0.08899686, -0.21299762],\n",
              "         [-0.15096742, -0.13291776, -0.25621748, ..., -0.23116724,\n",
              "          -0.08682616, -0.05658158],\n",
              "         [-0.22119527, -0.1636365 , -0.26843777, ..., -0.21977699,\n",
              "          -0.1264593 ,  0.5355735 ]],\n",
              "\n",
              "        [[-0.14859575, -0.142455  , -0.27567443, ..., -0.18450612,\n",
              "          -0.11009695,  0.52311265],\n",
              "         [-0.08213894, -0.11774988, -0.26839864, ..., -0.21416672,\n",
              "          -0.07324096, -0.15595222],\n",
              "         [-0.06821769, -0.09244712, -0.25633174, ..., -0.19601509,\n",
              "          -0.06913348, -0.25076306],\n",
              "         ...,\n",
              "         [-0.07741968, -0.09569621, -0.26621032, ..., -0.19149832,\n",
              "          -0.0748309 , -0.2517948 ],\n",
              "         [-0.11440757, -0.12320886, -0.2624416 , ..., -0.19989963,\n",
              "          -0.08084164, -0.1446355 ],\n",
              "         [-0.19071712, -0.1606488 , -0.27054533, ..., -0.19496262,\n",
              "          -0.13749687,  0.5816356 ]],\n",
              "\n",
              "        ...,\n",
              "\n",
              "        [[-0.13274293, -0.14877346, -0.2781644 , ..., -0.20902307,\n",
              "          -0.12966754,  0.5819354 ],\n",
              "         [-0.07463007, -0.11877473, -0.2696399 , ..., -0.23566002,\n",
              "          -0.09297249, -0.12036204],\n",
              "         [-0.0607895 , -0.09203263, -0.2608963 , ..., -0.21377246,\n",
              "          -0.0846449 , -0.24893835],\n",
              "         ...,\n",
              "         [-0.07655734, -0.10184683, -0.24982737, ..., -0.21933539,\n",
              "          -0.09461363, -0.2322053 ],\n",
              "         [-0.11006285, -0.13338126, -0.2660795 , ..., -0.22454719,\n",
              "          -0.10496912, -0.1104665 ],\n",
              "         [-0.18708318, -0.19815941, -0.26518363, ..., -0.24576531,\n",
              "          -0.17675696,  0.7199431 ]],\n",
              "\n",
              "        [[-0.13717411, -0.174372  , -0.27484098, ..., -0.21642953,\n",
              "          -0.15096481,  0.3169708 ],\n",
              "         [-0.08741082, -0.13846067, -0.2771245 , ..., -0.22073902,\n",
              "          -0.12051667, -0.09603531],\n",
              "         [-0.08844491, -0.11097385, -0.2638244 , ..., -0.20908426,\n",
              "          -0.11627051, -0.20629826],\n",
              "         ...,\n",
              "         [-0.10167175, -0.1191403 , -0.25448212, ..., -0.21922362,\n",
              "          -0.12208205, -0.18315391],\n",
              "         [-0.10411488, -0.1250522 , -0.2714201 , ..., -0.15975928,\n",
              "          -0.10498303, -0.18697211],\n",
              "         [-0.12495549, -0.19245754, -0.25007713, ..., -0.18073861,\n",
              "          -0.14323391, -0.11825392]],\n",
              "\n",
              "        [[-0.2732852 , -0.2257637 ,  0.36805254, ..., -0.26763135,\n",
              "          -0.27281377,  0.5752819 ],\n",
              "         [-0.20000856, -0.17024578,  0.3135557 , ..., -0.21760832,\n",
              "          -0.19516264,  0.12296258],\n",
              "         [-0.21048348, -0.14934799,  0.3944597 , ..., -0.20091784,\n",
              "          -0.17949937,  0.12289837],\n",
              "         ...,\n",
              "         [-0.22624749, -0.16605975,  0.37316784, ..., -0.20666632,\n",
              "          -0.18513897,  0.24455163],\n",
              "         [-0.1144861 , -0.14147595,  0.11875296, ..., -0.1503797 ,\n",
              "          -0.16120206, -0.20889984],\n",
              "         [ 3.24344   ,  2.3670902 ,  2.8102522 , ...,  0.63563627,\n",
              "           3.7930129 ,  1.2244401 ]]],\n",
              "\n",
              "\n",
              "       [[[-0.23636484, -0.18243194, -0.27704334, ..., -0.23422015,\n",
              "          -0.19131744,  0.4567264 ],\n",
              "         [-0.13660538, -0.18229116, -0.2767773 , ..., -0.2570417 ,\n",
              "          -0.16370763,  0.19236168],\n",
              "         [-0.13276325, -0.14477211, -0.23643407, ..., -0.24188264,\n",
              "          -0.16139704,  0.06714768],\n",
              "         ...,\n",
              "         [-0.14185858, -0.14761044, -0.2417925 , ..., -0.23900798,\n",
              "          -0.1622925 ,  0.06717058],\n",
              "         [-0.15281865, -0.17309257, -0.2775501 , ..., -0.2432642 ,\n",
              "          -0.15321344,  0.1749856 ],\n",
              "         [-0.2555404 , -0.18403384, -0.27819487, ..., -0.23908858,\n",
              "          -0.19195165,  0.5007365 ]],\n",
              "\n",
              "        [[-0.18096386, -0.15048952, -0.2767218 , ..., -0.21327692,\n",
              "          -0.11030822,  0.42551687],\n",
              "         [-0.1135875 , -0.12860505, -0.26550683, ..., -0.24244717,\n",
              "          -0.08394378, -0.10217511],\n",
              "         [-0.10027559, -0.1067302 , -0.22570685, ..., -0.22330652,\n",
              "          -0.08598041, -0.20882355],\n",
              "         ...,\n",
              "         [-0.10925169, -0.10903908, -0.23804092, ..., -0.2203948 ,\n",
              "          -0.08913348, -0.21212101],\n",
              "         [-0.15236804, -0.13341457, -0.25583565, ..., -0.23076467,\n",
              "          -0.08690909, -0.05468196],\n",
              "         [-0.222161  , -0.1635378 , -0.26833162, ..., -0.22005013,\n",
              "          -0.12674919,  0.53611   ]],\n",
              "\n",
              "        [[-0.14951435, -0.14257547, -0.27567914, ..., -0.18485114,\n",
              "          -0.1100157 ,  0.52821803],\n",
              "         [-0.08293213, -0.11792617, -0.26856405, ..., -0.21412444,\n",
              "          -0.07308251, -0.15485285],\n",
              "         [-0.06895472, -0.09254884, -0.25658184, ..., -0.19563407,\n",
              "          -0.06918766, -0.25056028],\n",
              "         ...,\n",
              "         [-0.07816591, -0.09586491, -0.26646096, ..., -0.19101554,\n",
              "          -0.07485075, -0.25157422],\n",
              "         [-0.11555389, -0.12345748, -0.26257753, ..., -0.19945554,\n",
              "          -0.08085497, -0.14294578],\n",
              "         [-0.19122294, -0.16038786, -0.2708069 , ..., -0.19552313,\n",
              "          -0.13791631,  0.58190376]],\n",
              "\n",
              "        ...,\n",
              "\n",
              "        [[-0.13320315, -0.14867137, -0.27817878, ..., -0.20910746,\n",
              "          -0.12969443,  0.5883359 ],\n",
              "         [-0.07508244, -0.11879164, -0.26968804, ..., -0.23571606,\n",
              "          -0.09300265, -0.11805508],\n",
              "         [-0.0611625 , -0.09192   , -0.26108253, ..., -0.21383023,\n",
              "          -0.08464023, -0.24818596],\n",
              "         ...,\n",
              "         [-0.07712736, -0.10179545, -0.2503383 , ..., -0.21920823,\n",
              "          -0.09446917, -0.23204432],\n",
              "         [-0.11117391, -0.13353683, -0.26624414, ..., -0.22440223,\n",
              "          -0.10485499, -0.10880177],\n",
              "         [-0.18762302, -0.19794472, -0.26533735, ..., -0.2463991 ,\n",
              "          -0.17660256,  0.7203946 ]],\n",
              "\n",
              "        [[-0.13776697, -0.17444895, -0.27482915, ..., -0.21650594,\n",
              "          -0.15108903,  0.3221848 ],\n",
              "         [-0.08793377, -0.13871723, -0.27707848, ..., -0.22087058,\n",
              "          -0.1206786 , -0.093031  ],\n",
              "         [-0.08901592, -0.11100496, -0.2636481 , ..., -0.20924684,\n",
              "          -0.11635111, -0.20472534],\n",
              "         ...,\n",
              "         [-0.1024351 , -0.11922465, -0.25442833, ..., -0.21917877,\n",
              "          -0.12199213, -0.18238446],\n",
              "         [-0.10522182, -0.12530135, -0.2715119 , ..., -0.15985842,\n",
              "          -0.10498017, -0.18626651],\n",
              "         [-0.1260306 , -0.19270645, -0.2501592 , ..., -0.18151237,\n",
              "          -0.1432793 , -0.11703988]],\n",
              "\n",
              "        [[-0.27279264, -0.22579059,  0.36818662, ..., -0.26766953,\n",
              "          -0.272887  ,  0.5820647 ],\n",
              "         [-0.20095235, -0.17040573,  0.31394622, ..., -0.21747723,\n",
              "          -0.19520678,  0.1278481 ],\n",
              "         [-0.2111855 , -0.14921261,  0.39308625, ..., -0.20066553,\n",
              "          -0.17928039,  0.12696436],\n",
              "         ...,\n",
              "         [-0.22727464, -0.16635479,  0.3725962 , ..., -0.20643169,\n",
              "          -0.18509859,  0.24852759],\n",
              "         [-0.11542223, -0.14178371,  0.11754398, ..., -0.1503332 ,\n",
              "          -0.16096357, -0.20733559],\n",
              "         [ 3.2528498 ,  2.3647952 ,  2.8062139 , ...,  0.6431462 ,\n",
              "           3.7912838 ,  1.2280173 ]]]], dtype=float32)"
            ]
          },
          "metadata": {},
          "execution_count": 43
        }
      ]
    },
    {
      "cell_type": "code",
      "source": [
        "X_train = X_train.reshape(X_train.shape[0], -1)\n",
        "X_train[:3]"
      ],
      "metadata": {
        "colab": {
          "base_uri": "https://localhost:8080/"
        },
        "id": "A7itFQVfk_pR",
        "outputId": "94bf257b-45e2-4438-c928-66b9744aaa1e"
      },
      "execution_count": null,
      "outputs": [
        {
          "output_type": "execute_result",
          "data": {
            "text/plain": [
              "array([[-0.23646809, -0.1823909 , -0.27704486, ...,  0.6475195 ,\n",
              "         3.791099  ,  1.2270839 ],\n",
              "       [-0.2357233 , -0.18255919, -0.2770312 , ...,  0.63563627,\n",
              "         3.7930129 ,  1.2244401 ],\n",
              "       [-0.23636484, -0.18243194, -0.27704334, ...,  0.6431462 ,\n",
              "         3.7912838 ,  1.2280173 ]], dtype=float32)"
            ]
          },
          "metadata": {},
          "execution_count": 44
        }
      ]
    },
    {
      "cell_type": "code",
      "source": [
        "print(f'''\n",
        "Lenght X_train: {len(X_train)}\n",
        "Shape X_train after Reshaping: {X_train.shape}''')"
      ],
      "metadata": {
        "colab": {
          "base_uri": "https://localhost:8080/"
        },
        "id": "38pBCl1PitiK",
        "outputId": "908102b6-21c6-4098-a4ec-fc10e4438fa5"
      },
      "execution_count": null,
      "outputs": [
        {
          "output_type": "stream",
          "name": "stdout",
          "text": [
            "\n",
            "Lenght X_train: 2239\n",
            "Shape X_train after Reshaping: (2239, 81920)\n"
          ]
        }
      ]
    },
    {
      "cell_type": "code",
      "source": [
        "# Get Test Feature Vector\n",
        "X_test = feature_extractor.predict(test_generator)"
      ],
      "metadata": {
        "colab": {
          "base_uri": "https://localhost:8080/"
        },
        "id": "_fQeIcgulx1n",
        "outputId": "12105b09-ae29-4cc0-b50d-c9004175da72"
      },
      "execution_count": null,
      "outputs": [
        {
          "output_type": "stream",
          "name": "stdout",
          "text": [
            "8/8 [==============================] - 8s 984ms/step\n"
          ]
        }
      ]
    },
    {
      "cell_type": "code",
      "source": [
        "print(f'''\n",
        "Lenght X_test: {len(X_test)}\n",
        "SHape X_test: {X_test.shape}''')"
      ],
      "metadata": {
        "colab": {
          "base_uri": "https://localhost:8080/"
        },
        "id": "yy-liWSjl5s0",
        "outputId": "6e3407b2-5c49-4962-95ca-3063260e79d8"
      },
      "execution_count": null,
      "outputs": [
        {
          "output_type": "stream",
          "name": "stdout",
          "text": [
            "\n",
            "Lenght X_test: 118\n",
            "SHape X_test: (118, 8, 8, 1280)\n"
          ]
        }
      ]
    },
    {
      "cell_type": "code",
      "source": [
        "X_test[:3]"
      ],
      "metadata": {
        "colab": {
          "base_uri": "https://localhost:8080/"
        },
        "id": "yBayXQQymOd5",
        "outputId": "55eb3629-3df2-41c8-e91d-30f3480e2170"
      },
      "execution_count": null,
      "outputs": [
        {
          "output_type": "execute_result",
          "data": {
            "text/plain": [
              "array([[[[-0.23710385, -0.18243295, -0.27714622, ..., -0.2341094 ,\n",
              "          -0.1913547 ,  0.46180475],\n",
              "         [-0.13759156, -0.18196681, -0.2766303 , ..., -0.25647587,\n",
              "          -0.16347693,  0.19529195],\n",
              "         [-0.13405867, -0.14457856, -0.23557772, ..., -0.241119  ,\n",
              "          -0.16116819,  0.06959592],\n",
              "         ...,\n",
              "         [-0.14336994, -0.14754452, -0.24146315, ..., -0.2381349 ,\n",
              "          -0.16201617,  0.06720586],\n",
              "         [-0.15417685, -0.17272165, -0.27746376, ..., -0.2425147 ,\n",
              "          -0.15280473,  0.17512569],\n",
              "         [-0.25623545, -0.18354046, -0.2782243 , ..., -0.23912632,\n",
              "          -0.19194485,  0.50048405]],\n",
              "\n",
              "        [[-0.18169622, -0.15045762, -0.2765985 , ..., -0.21325463,\n",
              "          -0.11036238,  0.43093213],\n",
              "         [-0.11447478, -0.12850605, -0.26518106, ..., -0.24188165,\n",
              "          -0.08386023, -0.10064666],\n",
              "         [-0.10132787, -0.10663561, -0.22495084, ..., -0.22251219,\n",
              "          -0.08586597, -0.20823866],\n",
              "         ...,\n",
              "         [-0.1102752 , -0.10911921, -0.23833977, ..., -0.21944124,\n",
              "          -0.08909646, -0.2121178 ],\n",
              "         [-0.15365058, -0.13340059, -0.25568387, ..., -0.22987366,\n",
              "          -0.08686695, -0.05365474],\n",
              "         [-0.22284551, -0.16328527, -0.26824263, ..., -0.2201997 ,\n",
              "          -0.12707308,  0.5386413 ]],\n",
              "\n",
              "        [[-0.15033956, -0.14258796, -0.27562562, ..., -0.1847798 ,\n",
              "          -0.11002373,  0.5347529 ],\n",
              "         [-0.0836583 , -0.11788931, -0.26852632, ..., -0.21329457,\n",
              "          -0.07292745, -0.15384215],\n",
              "         [-0.06963746, -0.09252965, -0.2566358 , ..., -0.1945413 ,\n",
              "          -0.06902566, -0.25050825],\n",
              "         ...,\n",
              "         [-0.07891448, -0.09595373, -0.2668267 , ..., -0.18989053,\n",
              "          -0.07478252, -0.2516491 ],\n",
              "         [-0.1166215 , -0.1234983 , -0.26284957, ..., -0.1982052 ,\n",
              "          -0.08077291, -0.1421966 ],\n",
              "         [-0.19155224, -0.16024974, -0.27100033, ..., -0.19605167,\n",
              "          -0.13849546,  0.5844221 ]],\n",
              "\n",
              "        ...,\n",
              "\n",
              "        [[-0.13400102, -0.1487081 , -0.27819017, ..., -0.20923321,\n",
              "          -0.12958366,  0.5926541 ],\n",
              "         [-0.07577291, -0.11880911, -0.26989707, ..., -0.23512834,\n",
              "          -0.09274362, -0.11723726],\n",
              "         [-0.06189112, -0.09206082, -0.26118803, ..., -0.21284392,\n",
              "          -0.08448616, -0.24795368],\n",
              "         ...,\n",
              "         [-0.07798398, -0.10196599, -0.25091857, ..., -0.21837667,\n",
              "          -0.09425148, -0.23197761],\n",
              "         [-0.11242179, -0.13363025, -0.26651606, ..., -0.22336449,\n",
              "          -0.10449764, -0.10873957],\n",
              "         [-0.18873623, -0.19784024, -0.2651335 , ..., -0.24699755,\n",
              "          -0.17671695,  0.7203222 ]],\n",
              "\n",
              "        [[-0.13865589, -0.17442466, -0.2748102 , ..., -0.21666683,\n",
              "          -0.15088075,  0.32581273],\n",
              "         [-0.08865066, -0.13858098, -0.2771349 , ..., -0.22050242,\n",
              "          -0.1202504 , -0.09187335],\n",
              "         [-0.08991277, -0.11098173, -0.26367313, ..., -0.20865893,\n",
              "          -0.11598568, -0.20407563],\n",
              "         ...,\n",
              "         [-0.10335133, -0.11939617, -0.25486216, ..., -0.21874292,\n",
              "          -0.12156481, -0.18184789],\n",
              "         [-0.10645898, -0.12533012, -0.27131593, ..., -0.15934066,\n",
              "          -0.1045482 , -0.18730408],\n",
              "         [-0.12777832, -0.19305111, -0.25025237, ..., -0.1821862 ,\n",
              "          -0.14334501, -0.11605982]],\n",
              "\n",
              "        [[-0.27205327, -0.22587255,  0.37034455, ..., -0.2677384 ,\n",
              "          -0.27291173,  0.5886212 ],\n",
              "         [-0.20183705, -0.17029202,  0.31358933, ..., -0.217042  ,\n",
              "          -0.19476055,  0.13104285],\n",
              "         [-0.2123159 , -0.14932881,  0.3929801 , ..., -0.19996904,\n",
              "          -0.17881797,  0.13025373],\n",
              "         ...,\n",
              "         [-0.22832115, -0.16655464,  0.37069038, ..., -0.20593418,\n",
              "          -0.18465137,  0.25187942],\n",
              "         [-0.11649406, -0.14192675,  0.11533525, ..., -0.15000622,\n",
              "          -0.16044967, -0.20576811],\n",
              "         [ 3.2661147 ,  2.3604722 ,  2.8017838 , ...,  0.6485522 ,\n",
              "           3.790148  ,  1.2345017 ]]],\n",
              "\n",
              "\n",
              "       [[[-0.2367574 , -0.18252976, -0.2770692 , ..., -0.23436886,\n",
              "          -0.19136754,  0.4603105 ],\n",
              "         [-0.13742748, -0.18226919, -0.27668327, ..., -0.25679472,\n",
              "          -0.16360618,  0.19425993],\n",
              "         [-0.13399442, -0.14483885, -0.235847  , ..., -0.2412279 ,\n",
              "          -0.16129677,  0.06835751],\n",
              "         ...,\n",
              "         [-0.1433082 , -0.147764  , -0.24138904, ..., -0.23830341,\n",
              "          -0.16230261,  0.06745768],\n",
              "         [-0.15396418, -0.17308144, -0.27745438, ..., -0.24263997,\n",
              "          -0.15302333,  0.17627406],\n",
              "         [-0.25569263, -0.18386632, -0.27820757, ..., -0.23930156,\n",
              "          -0.1919696 ,  0.50272673]],\n",
              "\n",
              "        [[-0.1814782 , -0.15053122, -0.27664953, ..., -0.21349567,\n",
              "          -0.11041313,  0.4295935 ],\n",
              "         [-0.11437536, -0.12868589, -0.26526538, ..., -0.24218321,\n",
              "          -0.08397124, -0.10121244],\n",
              "         [-0.10124414, -0.10683472, -0.22549991, ..., -0.22263394,\n",
              "          -0.08593988, -0.20865446],\n",
              "         ...,\n",
              "         [-0.11036153, -0.10924854, -0.2380563 , ..., -0.21969092,\n",
              "          -0.08930191, -0.21210827],\n",
              "         [-0.15378828, -0.1335977 , -0.25537208, ..., -0.2300246 ,\n",
              "          -0.08704863, -0.05309364],\n",
              "         [-0.22252539, -0.16336337, -0.268191  , ..., -0.22032547,\n",
              "          -0.12702361,  0.5396843 ]],\n",
              "\n",
              "        [[-0.15016906, -0.14270627, -0.27562395, ..., -0.18506679,\n",
              "          -0.1101919 ,  0.5334271 ],\n",
              "         [-0.08363931, -0.11803523, -0.2684845 , ..., -0.21359801,\n",
              "          -0.07303661, -0.15405506],\n",
              "         [-0.06962461, -0.09263124, -0.2567687 , ..., -0.1947099 ,\n",
              "          -0.0691025 , -0.25062892],\n",
              "         ...,\n",
              "         [-0.07886335, -0.09607863, -0.266776  , ..., -0.19021523,\n",
              "          -0.07492492, -0.25164247],\n",
              "         [-0.11667461, -0.12368317, -0.26253465, ..., -0.19852665,\n",
              "          -0.08095987, -0.14204003],\n",
              "         [-0.19137593, -0.16035582, -0.27085218, ..., -0.19614491,\n",
              "          -0.13855094,  0.5842412 ]],\n",
              "\n",
              "        ...,\n",
              "\n",
              "        [[-0.1336889 , -0.14897284, -0.27822128, ..., -0.2096056 ,\n",
              "          -0.12980583,  0.5929063 ],\n",
              "         [-0.07578497, -0.11895828, -0.2698442 , ..., -0.23555401,\n",
              "          -0.09289443, -0.1173538 ],\n",
              "         [-0.06198456, -0.09212229, -0.26095575, ..., -0.21327291,\n",
              "          -0.08469861, -0.24783468],\n",
              "         ...,\n",
              "         [-0.07795979, -0.10197295, -0.2507203 , ..., -0.21875665,\n",
              "          -0.09442008, -0.23200142],\n",
              "         [-0.11242422, -0.13378917, -0.26653063, ..., -0.22397919,\n",
              "          -0.10475546, -0.10873561],\n",
              "         [-0.18801337, -0.1984872 , -0.26568583, ..., -0.24743533,\n",
              "          -0.17710021,  0.7195549 ]],\n",
              "\n",
              "        [[-0.13829087, -0.17482145, -0.27492416, ..., -0.21711004,\n",
              "          -0.1513114 ,  0.32677877],\n",
              "         [-0.08862817, -0.13875082, -0.27711987, ..., -0.22084282,\n",
              "          -0.12049551, -0.09199971],\n",
              "         [-0.08987092, -0.11106753, -0.26364055, ..., -0.209032  ,\n",
              "          -0.11617584, -0.20429227],\n",
              "         ...,\n",
              "         [-0.10345224, -0.11940753, -0.25457066, ..., -0.21903302,\n",
              "          -0.12182286, -0.18191148],\n",
              "         [-0.10653415, -0.12583439, -0.27129006, ..., -0.15960866,\n",
              "          -0.10514417, -0.18579647],\n",
              "         [-0.12686025, -0.19462846, -0.25094855, ..., -0.18255432,\n",
              "          -0.14453577, -0.11487552]],\n",
              "\n",
              "        [[-0.27237374, -0.22624286,  0.3672564 , ..., -0.26797625,\n",
              "          -0.27310586,  0.58881295],\n",
              "         [-0.201625  , -0.1705945 ,  0.3122339 , ..., -0.21723486,\n",
              "          -0.1950587 ,  0.13059586],\n",
              "         [-0.21204229, -0.14939936,  0.39178053, ..., -0.20025124,\n",
              "          -0.17900737,  0.1294923 ],\n",
              "         ...,\n",
              "         [-0.22826494, -0.16670041,  0.36987746, ..., -0.20586807,\n",
              "          -0.1848566 ,  0.25154397],\n",
              "         [-0.11616744, -0.1427023 ,  0.1132132 , ..., -0.15006852,\n",
              "          -0.16140787, -0.20530187],\n",
              "         [ 3.2636442 ,  2.3894367 ,  2.7982311 , ...,  0.658665  ,\n",
              "           3.813988  ,  1.2390907 ]]],\n",
              "\n",
              "\n",
              "       [[[-0.23366721, -0.1827239 , -0.2764721 , ..., -0.2339182 ,\n",
              "          -0.19071017,  0.4674673 ],\n",
              "         [-0.13510522, -0.18307503, -0.2771882 , ..., -0.25704232,\n",
              "          -0.16329102,  0.19788809],\n",
              "         [-0.13145219, -0.14569058, -0.23945001, ..., -0.24162138,\n",
              "          -0.16079587,  0.07124592],\n",
              "         ...,\n",
              "         [-0.14073393, -0.14870356, -0.24487858, ..., -0.2387527 ,\n",
              "          -0.16171323,  0.06966964],\n",
              "         [-0.15219   , -0.17412648, -0.2777531 , ..., -0.2428162 ,\n",
              "          -0.15248533,  0.17738223],\n",
              "         [-0.25415546, -0.1845206 , -0.2780657 , ..., -0.23844132,\n",
              "          -0.19067067,  0.5062801 ]],\n",
              "\n",
              "        [[-0.17983153, -0.15083618, -0.27692202, ..., -0.21211283,\n",
              "          -0.11013972,  0.43356374],\n",
              "         [-0.11267801, -0.12884784, -0.26623484, ..., -0.2410108 ,\n",
              "          -0.08367028, -0.10081095],\n",
              "         [-0.09955015, -0.10708671, -0.22798811, ..., -0.22161125,\n",
              "          -0.08550221, -0.20897841],\n",
              "         ...,\n",
              "         [-0.10852186, -0.10971349, -0.24017006, ..., -0.2188984 ,\n",
              "          -0.088884  , -0.21212348],\n",
              "         [-0.15221144, -0.13419855, -0.2561144 , ..., -0.2288437 ,\n",
              "          -0.0867737 , -0.053508  ],\n",
              "         [-0.22170024, -0.16428876, -0.26823652, ..., -0.21837166,\n",
              "          -0.12629499,  0.5399078 ]],\n",
              "\n",
              "        [[-0.14941004, -0.14247312, -0.2758291 , ..., -0.1835913 ,\n",
              "          -0.10987726,  0.5367274 ],\n",
              "         [-0.08275726, -0.11787754, -0.26910982, ..., -0.21236648,\n",
              "          -0.07269788, -0.15296449],\n",
              "         [-0.06874159, -0.09260575, -0.25780606, ..., -0.19385658,\n",
              "          -0.0687663 , -0.24982135],\n",
              "         ...,\n",
              "         [-0.07784476, -0.09615138, -0.26746956, ..., -0.18971713,\n",
              "          -0.07462437, -0.25067118],\n",
              "         [-0.11570197, -0.12387051, -0.26295456, ..., -0.1977152 ,\n",
              "          -0.08070356, -0.14092118],\n",
              "         [-0.19126871, -0.16081877, -0.27080902, ..., -0.19427387,\n",
              "          -0.13791841,  0.5861792 ]],\n",
              "\n",
              "        ...,\n",
              "\n",
              "        [[-0.13339798, -0.14899246, -0.27816272, ..., -0.20858856,\n",
              "          -0.1295313 ,  0.5930864 ],\n",
              "         [-0.07555274, -0.11903512, -0.26945868, ..., -0.2349091 ,\n",
              "          -0.09282161, -0.11641041],\n",
              "         [-0.0616847 , -0.09213393, -0.26050502, ..., -0.21282141,\n",
              "          -0.08463629, -0.24740018],\n",
              "         ...,\n",
              "         [-0.07749032, -0.10203654, -0.2501544 , ..., -0.21844487,\n",
              "          -0.09435503, -0.2312406 ],\n",
              "         [-0.1117961 , -0.13392043, -0.26613826, ..., -0.22331803,\n",
              "          -0.10455754, -0.10835947],\n",
              "         [-0.18801452, -0.19840972, -0.26477966, ..., -0.2461285 ,\n",
              "          -0.17634986,  0.72047776]],\n",
              "\n",
              "        [[-0.13824001, -0.17482372, -0.27470413, ..., -0.21619397,\n",
              "          -0.15095612,  0.3251715 ],\n",
              "         [-0.08830424, -0.13896617, -0.27696943, ..., -0.22058165,\n",
              "          -0.12028309, -0.09225332],\n",
              "         [-0.08949808, -0.11127604, -0.2632013 , ..., -0.20868397,\n",
              "          -0.116009  , -0.20407237],\n",
              "         ...,\n",
              "         [-0.10265186, -0.1196335 , -0.2544091 , ..., -0.21873355,\n",
              "          -0.12158673, -0.18210939],\n",
              "         [-0.10575341, -0.12580806, -0.27148008, ..., -0.15936488,\n",
              "          -0.10463437, -0.18715207],\n",
              "         [-0.12682219, -0.19383442, -0.2499488 , ..., -0.18147162,\n",
              "          -0.14331587, -0.11799014]],\n",
              "\n",
              "        [[-0.27314532, -0.22577824,  0.3609619 , ..., -0.2668388 ,\n",
              "          -0.2724843 ,  0.58156663],\n",
              "         [-0.20115039, -0.17143695,  0.31182495, ..., -0.21710278,\n",
              "          -0.19511932,  0.1285284 ],\n",
              "         [-0.21111648, -0.15007362,  0.39159477, ..., -0.2002373 ,\n",
              "          -0.17891523,  0.12814134],\n",
              "         ...,\n",
              "         [-0.22697577, -0.16725658,  0.36879027, ..., -0.20607457,\n",
              "          -0.18468072,  0.24967644],\n",
              "         [-0.11544949, -0.14271131,  0.11379668, ..., -0.15010652,\n",
              "          -0.16065972, -0.20756994],\n",
              "         [ 3.2579281 ,  2.3801234 ,  2.7984116 , ...,  0.6461195 ,\n",
              "           3.7964578 ,  1.2228386 ]]]], dtype=float32)"
            ]
          },
          "metadata": {},
          "execution_count": 48
        }
      ]
    },
    {
      "cell_type": "code",
      "source": [
        "X_test = X_test.reshape(X_test.shape[0], -1)\n",
        "X_test[:3]"
      ],
      "metadata": {
        "colab": {
          "base_uri": "https://localhost:8080/"
        },
        "id": "RqTXPLc6l7_G",
        "outputId": "421416b8-fa80-4a4d-cbcc-f5bbfb920d0f"
      },
      "execution_count": null,
      "outputs": [
        {
          "output_type": "execute_result",
          "data": {
            "text/plain": [
              "array([[-0.23710385, -0.18243295, -0.27714622, ...,  0.6485522 ,\n",
              "         3.790148  ,  1.2345017 ],\n",
              "       [-0.2367574 , -0.18252976, -0.2770692 , ...,  0.658665  ,\n",
              "         3.813988  ,  1.2390907 ],\n",
              "       [-0.23366721, -0.1827239 , -0.2764721 , ...,  0.6461195 ,\n",
              "         3.7964578 ,  1.2228386 ]], dtype=float32)"
            ]
          },
          "metadata": {},
          "execution_count": 49
        }
      ]
    },
    {
      "cell_type": "code",
      "source": [
        "print(f'''\n",
        "Lenght X_test: {len(X_test)}\n",
        "SHape X_test Reshaping: {X_test.shape}''')"
      ],
      "metadata": {
        "colab": {
          "base_uri": "https://localhost:8080/"
        },
        "id": "hMEUnb2Ajbnk",
        "outputId": "7b5e312e-4844-44a1-8f5e-e2e2d02f9464"
      },
      "execution_count": null,
      "outputs": [
        {
          "output_type": "stream",
          "name": "stdout",
          "text": [
            "\n",
            "Lenght X_test: 118\n",
            "SHape X_test Reshaping: (118, 81920)\n"
          ]
        }
      ]
    },
    {
      "cell_type": "markdown",
      "source": [
        "### Extract Labels from Image Dataset# "
      ],
      "metadata": {
        "id": "zueyH3x9nKpU"
      }
    },
    {
      "cell_type": "code",
      "source": [
        "train_generator.class_indices.keys()"
      ],
      "metadata": {
        "colab": {
          "base_uri": "https://localhost:8080/"
        },
        "id": "kRd3xAMDvMqR",
        "outputId": "e99ac74b-2950-4f37-a833-fe741f45f5da"
      },
      "execution_count": null,
      "outputs": [
        {
          "output_type": "execute_result",
          "data": {
            "text/plain": [
              "dict_keys(['actinic keratosis', 'basal cell carcinoma', 'dermatofibroma', 'melanoma', 'nevus', 'pigmented benign keratosis', 'seborrheic keratosis', 'squamous cell carcinoma', 'vascular lesion'])"
            ]
          },
          "metadata": {},
          "execution_count": 51
        }
      ]
    },
    {
      "cell_type": "code",
      "source": [
        "# Get train labels\n",
        "\n",
        "y_train = tf.one_hot(train_generator.labels, depth = 9)\n",
        "y_train"
      ],
      "metadata": {
        "colab": {
          "base_uri": "https://localhost:8080/"
        },
        "id": "muh81YGfwwSN",
        "outputId": "36382e6d-07ea-46e1-d958-8b6a16e5c436"
      },
      "execution_count": null,
      "outputs": [
        {
          "output_type": "execute_result",
          "data": {
            "text/plain": [
              "<tf.Tensor: shape=(2239, 9), dtype=float32, numpy=\n",
              "array([[1., 0., 0., ..., 0., 0., 0.],\n",
              "       [1., 0., 0., ..., 0., 0., 0.],\n",
              "       [1., 0., 0., ..., 0., 0., 0.],\n",
              "       ...,\n",
              "       [0., 0., 0., ..., 0., 0., 1.],\n",
              "       [0., 0., 0., ..., 0., 0., 1.],\n",
              "       [0., 0., 0., ..., 0., 0., 1.]], dtype=float32)>"
            ]
          },
          "metadata": {},
          "execution_count": 52
        }
      ]
    },
    {
      "cell_type": "code",
      "source": [
        "# Get test labels\n",
        "\n",
        "y_test = tf.one_hot(test_generator.labels, depth = 9)\n",
        "y_test"
      ],
      "metadata": {
        "colab": {
          "base_uri": "https://localhost:8080/"
        },
        "id": "WUG3AbEmq9ES",
        "outputId": "60ab9d4d-49e2-45e9-e370-1f69db81fb28"
      },
      "execution_count": null,
      "outputs": [
        {
          "output_type": "execute_result",
          "data": {
            "text/plain": [
              "<tf.Tensor: shape=(118, 9), dtype=float32, numpy=\n",
              "array([[1., 0., 0., ..., 0., 0., 0.],\n",
              "       [1., 0., 0., ..., 0., 0., 0.],\n",
              "       [1., 0., 0., ..., 0., 0., 0.],\n",
              "       ...,\n",
              "       [0., 0., 0., ..., 0., 0., 1.],\n",
              "       [0., 0., 0., ..., 0., 0., 1.],\n",
              "       [0., 0., 0., ..., 0., 0., 1.]], dtype=float32)>"
            ]
          },
          "metadata": {},
          "execution_count": 53
        }
      ]
    },
    {
      "cell_type": "code",
      "source": [
        "len(X_train), len(y_train), len(X_test), len(y_test)"
      ],
      "metadata": {
        "colab": {
          "base_uri": "https://localhost:8080/"
        },
        "id": "EAY_N6Os54M3",
        "outputId": "fe0c5f6a-4843-462b-8b06-b358dea98585"
      },
      "execution_count": null,
      "outputs": [
        {
          "output_type": "execute_result",
          "data": {
            "text/plain": [
              "(2239, 2239, 118, 118)"
            ]
          },
          "metadata": {},
          "execution_count": 54
        }
      ]
    },
    {
      "cell_type": "code",
      "source": [
        "X_train.shape, y_train.shape, X_test.shape, y_test.shape"
      ],
      "metadata": {
        "colab": {
          "base_uri": "https://localhost:8080/"
        },
        "id": "K0KUwarl6DgT",
        "outputId": "8f3286aa-41b7-48d2-e4c4-45e9678154d5"
      },
      "execution_count": null,
      "outputs": [
        {
          "output_type": "execute_result",
          "data": {
            "text/plain": [
              "((2239, 81920), TensorShape([2239, 9]), (118, 81920), TensorShape([118, 9]))"
            ]
          },
          "metadata": {},
          "execution_count": 55
        }
      ]
    },
    {
      "cell_type": "markdown",
      "source": [
        "## Create RandomForestClassifer and fit train data"
      ],
      "metadata": {
        "id": "z4jjQ8SpxfVr"
      }
    },
    {
      "cell_type": "code",
      "source": [
        "from sklearn.ensemble import RandomForestClassifier\n",
        "RF_model = RandomForestClassifier(n_estimators = 20, random_state = 42)\n",
        "\n",
        "RF_model.fit(X_train, y_train)"
      ],
      "metadata": {
        "colab": {
          "base_uri": "https://localhost:8080/"
        },
        "id": "igGtN8bawYp5",
        "outputId": "16724c1f-96de-40d8-b8e0-05b747bb2630"
      },
      "execution_count": null,
      "outputs": [
        {
          "output_type": "execute_result",
          "data": {
            "text/plain": [
              "RandomForestClassifier(n_estimators=20, random_state=42)"
            ]
          },
          "metadata": {},
          "execution_count": 61
        }
      ]
    },
    {
      "cell_type": "code",
      "source": [
        "RF_preds = RF_model.predict(X_test)"
      ],
      "metadata": {
        "id": "-q3-3qU5x-Im"
      },
      "execution_count": null,
      "outputs": []
    },
    {
      "cell_type": "code",
      "source": [
        "RF_preds[-5:]"
      ],
      "metadata": {
        "colab": {
          "base_uri": "https://localhost:8080/"
        },
        "id": "ntVilV9l3jYh",
        "outputId": "b84571d4-859a-436f-df79-821c3c3a42ef"
      },
      "execution_count": null,
      "outputs": [
        {
          "output_type": "execute_result",
          "data": {
            "text/plain": [
              "array([[0., 0., 0., 0., 0., 0., 0., 0., 0.],\n",
              "       [0., 0., 0., 0., 0., 0., 0., 0., 0.],\n",
              "       [0., 0., 0., 0., 0., 0., 0., 0., 0.],\n",
              "       [0., 0., 0., 0., 0., 0., 0., 0., 0.],\n",
              "       [0., 0., 0., 0., 0., 0., 0., 0., 0.]], dtype=float32)"
            ]
          },
          "metadata": {},
          "execution_count": 63
        }
      ]
    },
    {
      "cell_type": "code",
      "source": [
        "len(RF_preds), len(y_test)"
      ],
      "metadata": {
        "colab": {
          "base_uri": "https://localhost:8080/"
        },
        "id": "cZWkvceP3dT_",
        "outputId": "8da9b6f1-23a2-44af-c2bd-dc299f3c44e1"
      },
      "execution_count": null,
      "outputs": [
        {
          "output_type": "execute_result",
          "data": {
            "text/plain": [
              "(118, 118)"
            ]
          },
          "metadata": {},
          "execution_count": 64
        }
      ]
    },
    {
      "cell_type": "code",
      "source": [
        "from sklearn import metrics\n",
        "print('Accuracy:', metrics.accuracy_score(y_test, RF_preds))"
      ],
      "metadata": {
        "colab": {
          "base_uri": "https://localhost:8080/"
        },
        "id": "lwSTgJGc30_o",
        "outputId": "7dc65340-15dd-4677-8302-7f4c7243e3a1"
      },
      "execution_count": null,
      "outputs": [
        {
          "output_type": "stream",
          "name": "stdout",
          "text": [
            "Accuracy: 0.0\n"
          ]
        }
      ]
    }
  ]
}